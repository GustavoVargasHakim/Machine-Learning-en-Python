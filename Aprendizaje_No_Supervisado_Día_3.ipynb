{
  "nbformat": 4,
  "nbformat_minor": 0,
  "metadata": {
    "colab": {
      "name": "Aprendizaje No Supervisado - Día 3.ipynb",
      "provenance": [],
      "toc_visible": true
    },
    "kernelspec": {
      "name": "python3",
      "display_name": "Python 3"
    },
    "language_info": {
      "name": "python"
    }
  },
  "cells": [
    {
      "cell_type": "markdown",
      "metadata": {
        "id": "Bfnp3XmeZVQ5"
      },
      "source": [
        "# **Taller de Aprendizaje Automático en Python - Día 3**\n",
        "\n",
        "## **Autores:**\n",
        "\n",
        "\n",
        "\n",
        "*   José Clemente Hernández Hernández\n",
        "*   Gustavo Adolfo Vargas Hákim"
      ]
    },
    {
      "cell_type": "markdown",
      "metadata": {
        "id": "vadT_lgsZa6g"
      },
      "source": [
        "# **Algoritmo de K Medias**"
      ]
    },
    {
      "cell_type": "code",
      "metadata": {
        "id": "3jmxRm4AIy9C"
      },
      "source": [
        "import numpy as np\n",
        "import matplotlib.pyplot as plt\n",
        "from sklearn.cluster import KMeans\n",
        "import pandas as pd"
      ],
      "execution_count": 24,
      "outputs": []
    },
    {
      "cell_type": "markdown",
      "metadata": {
        "id": "8rZrutkLZgc1"
      },
      "source": [
        "Tomamos la base de datos de ejemplo"
      ]
    },
    {
      "cell_type": "code",
      "metadata": {
        "id": "9BFe5ciuZP25"
      },
      "source": [
        "X = np.array([[0.9, 2.5],\n",
        "              [1.7, 1.8],\n",
        "              [1.1, 3.9],\n",
        "              [2., 3.],\n",
        "              [3.5, 2.1],\n",
        "              [4.6, 0.8],\n",
        "              [1., 7.],\n",
        "              [3.5, 5.7],\n",
        "              [3.9, 4.1],\n",
        "              [5, 3.1],\n",
        "              [5., 5.],\n",
        "              [6.5, 6.]])\n",
        "\n",
        "mius = np.array([[4.6, 1.8],\n",
        "                 [3.9, 6.2]])"
      ],
      "execution_count": 2,
      "outputs": []
    },
    {
      "cell_type": "markdown",
      "metadata": {
        "id": "UaV7YEXA7-qM"
      },
      "source": [
        "Graficamos..."
      ]
    },
    {
      "cell_type": "code",
      "metadata": {
        "colab": {
          "base_uri": "https://localhost:8080/",
          "height": 265
        },
        "id": "0tUHJp3DJhzj",
        "outputId": "0a130ed3-7484-44cd-ff96-a9026f48804d"
      },
      "source": [
        "plt.plot(X[:, 0], X[:, 1], \"ko\")\n",
        "plt.plot(mius[:, 0], mius[:, 1], 'bo', markersize=8)\n",
        "plt.show()"
      ],
      "execution_count": 20,
      "outputs": [
        {
          "output_type": "display_data",
          "data": {
            "image/png": "[encoded data removed]",
            "text/plain": [
              "<Figure size 432x288 with 1 Axes>"
            ]
          },
          "metadata": {
            "tags": [],
            "needs_background": "light"
          }
        }
      ]
    },
    {
      "cell_type": "markdown",
      "metadata": {
        "id": "BxDO9A0D8Fwh"
      },
      "source": [
        "Entrenamos el algoritmo, diciéndole cuántos cluster queremos"
      ]
    },
    {
      "cell_type": "code",
      "metadata": {
        "colab": {
          "base_uri": "https://localhost:8080/"
        },
        "id": "4bBfY2Sbwmx1",
        "outputId": "a9324be1-af35-40a3-8075-02bfd8fdc8b7"
      },
      "source": [
        "n = 2\n",
        "k_means = KMeans(n_clusters=n, init = mius)\n",
        "k_means.fit(X)"
      ],
      "execution_count": 15,
      "outputs": [
        {
          "output_type": "stream",
          "text": [
            "/usr/local/lib/python3.7/dist-packages/ipykernel_launcher.py:3: RuntimeWarning: Explicit initial center position passed: performing only one init in k-means instead of n_init=10\n",
            "  This is separate from the ipykernel package so we can avoid doing imports until\n"
          ],
          "name": "stderr"
        },
        {
          "output_type": "execute_result",
          "data": {
            "text/plain": [
              "KMeans(algorithm='auto', copy_x=True,\n",
              "       init=array([[4.6, 1.8],\n",
              "       [3.9, 6.2]]), max_iter=300, n_clusters=2,\n",
              "       n_init=10, n_jobs=None, precompute_distances='auto', random_state=None,\n",
              "       tol=0.0001, verbose=0)"
            ]
          },
          "metadata": {
            "tags": []
          },
          "execution_count": 15
        }
      ]
    },
    {
      "cell_type": "code",
      "metadata": {
        "id": "eDakJ8e5wrk5"
      },
      "source": [
        "centroides = k_means.cluster_centers_\n",
        "etiquetas = k_means.labels_"
      ],
      "execution_count": 16,
      "outputs": []
    },
    {
      "cell_type": "markdown",
      "metadata": {
        "id": "Zs3pD3TH8HBU"
      },
      "source": [
        "Graficamos los nuevos centroides y las etiquetas para los puntos"
      ]
    },
    {
      "cell_type": "code",
      "metadata": {
        "colab": {
          "base_uri": "https://localhost:8080/",
          "height": 265
        },
        "id": "hPjPSZO1wwvn",
        "outputId": "9b2222e4-7592-480b-fd32-84892a8c2ffd"
      },
      "source": [
        "plt.plot(X[etiquetas==0,0],X[etiquetas==0,1],'ro', label='cluster 1')\n",
        "plt.plot(X[etiquetas==1,0],X[etiquetas==1,1],'yo', label='cluster 2')\n",
        "\n",
        "plt.plot(centroides[:,0],centroides[:,1],'bo',markersize=8, label='centroides')\n",
        "\n",
        "plt.legend(loc='best')\n",
        "plt.show()"
      ],
      "execution_count": 21,
      "outputs": [
        {
          "output_type": "display_data",
          "data": {
            "image/png": "[encoded data removed]",
            "text/plain": [
              "<Figure size 432x288 with 1 Axes>"
            ]
          },
          "metadata": {
            "tags": [],
            "needs_background": "light"
          }
        }
      ]
    },
    {
      "cell_type": "code",
      "metadata": {
        "colab": {
          "base_uri": "https://localhost:8080/"
        },
        "id": "m1EmCz3HxdJW",
        "outputId": "2d3ea921-344f-419f-d799-3337fae8bc32"
      },
      "source": [
        "centroides"
      ],
      "execution_count": 22,
      "outputs": [
        {
          "output_type": "execute_result",
          "data": {
            "text/plain": [
              "array([[2.68571429, 2.45714286],\n",
              "       [3.98      , 5.56      ]])"
            ]
          },
          "metadata": {
            "tags": []
          },
          "execution_count": 22
        }
      ]
    },
    {
      "cell_type": "markdown",
      "metadata": {
        "id": "rUuckeqyz8XF"
      },
      "source": [
        "**Base de datos IRIS, con dos características y sin etiquetas**"
      ]
    },
    {
      "cell_type": "code",
      "metadata": {
        "id": "m6S1watI0DW6"
      },
      "source": [
        "data = pd.read_csv(\"https://raw.githubusercontent.com/GustavoVargasHakim/Machine-Learning-en-Python/main/iris.csv\")"
      ],
      "execution_count": 25,
      "outputs": []
    },
    {
      "cell_type": "markdown",
      "metadata": {
        "id": "yvLvONUD8QrC"
      },
      "source": [
        "Observamos que la base de datos viene etiquetada, sin embargo, para el KMeans, estas etiquetas serán eliminadas"
      ]
    },
    {
      "cell_type": "code",
      "metadata": {
        "colab": {
          "base_uri": "https://localhost:8080/",
          "height": 296
        },
        "id": "ckbbWljl1CSE",
        "outputId": "07f9696e-0b65-4751-a9a7-a4f17a098a15"
      },
      "source": [
        "colores = ['red', 'blue', 'green'] #Definimos una lista con los colores que queremos\n",
        "clases = ['Setosa', 'Virginica', 'Versicolor']\n",
        "'''Iteramos sobre las tres clases que tenemos'''\n",
        "for i in range(3): \n",
        "  clase_i = clases[i]\n",
        "  data_i = data.loc[data['variety'] == clase_i]\n",
        "  plt.scatter(data_i['sepal.length'], data_i['sepal.width'], color = colores[i], label = clases[i])\n",
        "\n",
        "plt.title('Gráfica de puntos') #Título de la gráfica\n",
        "plt.xlabel('Longitud del sépalo') #Nombre del eje x\n",
        "plt.ylabel('Ancho del sépalo') #Nombre del eje y\n",
        "plt.legend(loc = 'upper right') #Insertamos caja con etiquetas\n",
        "plt.show() #Mostramos la gráfica"
      ],
      "execution_count": 35,
      "outputs": [
        {
          "output_type": "display_data",
          "data": {
            "image/png": "[encoded data removed]",
            "text/plain": [
              "<Figure size 432x288 with 1 Axes>"
            ]
          },
          "metadata": {
            "tags": [],
            "needs_background": "light"
          }
        }
      ]
    },
    {
      "cell_type": "markdown",
      "metadata": {
        "id": "Cpv58pKj8dgD"
      },
      "source": [
        "Graficamos los puntos sin etiquetas, tomando las características sepal.lenght y sepal.width. También se agregan los centroides"
      ]
    },
    {
      "cell_type": "code",
      "metadata": {
        "colab": {
          "base_uri": "https://localhost:8080/",
          "height": 313
        },
        "id": "CRmgUciN0VR9",
        "outputId": "140a3745-e899-4ee7-e8ee-02bf34e56371"
      },
      "source": [
        "'''Gráfica de puntos (scatter plot)'''\n",
        "#Graficaremos a las flores en función de las medidas del sépalo\n",
        "plt.title('Gráfica de puntos') #Título de la gráfica\n",
        "plt.xlabel('Longitud del sépalo') #Nombre del eje x\n",
        "plt.ylabel('Ancho del sépalo') #Nombre del eje y\n",
        "plt.plot(data['sepal.length'], data['sepal.width'], \"ko\")\n",
        "\n",
        "mius = np.array([[5., 3.], [6., 2.], [6.5, 4.]])\n",
        "plt.plot(mius[:, 0], mius[:, 1], \"mo\", markersize=8, label='centroides')\n",
        "\n",
        "plt.legend(loc='best')"
      ],
      "execution_count": 45,
      "outputs": [
        {
          "output_type": "execute_result",
          "data": {
            "text/plain": [
              "<matplotlib.legend.Legend at 0x7f0fe7cec3d0>"
            ]
          },
          "metadata": {
            "tags": []
          },
          "execution_count": 45
        },
        {
          "output_type": "display_data",
          "data": {
            "image/png": "[encoded data removed]",
            "text/plain": [
              "<Figure size 432x288 with 1 Axes>"
            ]
          },
          "metadata": {
            "tags": [],
            "needs_background": "light"
          }
        }
      ]
    },
    {
      "cell_type": "markdown",
      "metadata": {
        "id": "dqoWMqYT8msP"
      },
      "source": [
        "Tomamos las variables indicadas"
      ]
    },
    {
      "cell_type": "code",
      "metadata": {
        "id": "B5drgYQr0XwV"
      },
      "source": [
        "X = data[[\"sepal.length\", \"sepal.width\"]].values"
      ],
      "execution_count": 61,
      "outputs": []
    },
    {
      "cell_type": "markdown",
      "metadata": {
        "id": "Ewn-2F7E8ox0"
      },
      "source": [
        "Y entrenamos el algoritmo. Esta vez con 3 clusters y con centroides conocidos"
      ]
    },
    {
      "cell_type": "code",
      "metadata": {
        "colab": {
          "base_uri": "https://localhost:8080/"
        },
        "id": "sNFgGRIi2VAh",
        "outputId": "e62909f9-4e3b-404b-b680-643ae0bb14b9"
      },
      "source": [
        "n = 3\n",
        "k_means = KMeans(n_clusters=n, init = mius)\n",
        "k_means.fit(X)"
      ],
      "execution_count": 57,
      "outputs": [
        {
          "output_type": "stream",
          "text": [
            "/usr/local/lib/python3.7/dist-packages/ipykernel_launcher.py:3: RuntimeWarning: Explicit initial center position passed: performing only one init in k-means instead of n_init=10\n",
            "  This is separate from the ipykernel package so we can avoid doing imports until\n"
          ],
          "name": "stderr"
        },
        {
          "output_type": "execute_result",
          "data": {
            "text/plain": [
              "KMeans(algorithm='auto', copy_x=True,\n",
              "       init=array([[5. , 3. ],\n",
              "       [6. , 2. ],\n",
              "       [6.5, 4. ]]),\n",
              "       max_iter=300, n_clusters=3, n_init=10, n_jobs=None,\n",
              "       precompute_distances='auto', random_state=None, tol=0.0001, verbose=0)"
            ]
          },
          "metadata": {
            "tags": []
          },
          "execution_count": 57
        }
      ]
    },
    {
      "cell_type": "code",
      "metadata": {
        "id": "AkerM_kx2WN_"
      },
      "source": [
        "centroides = k_means.cluster_centers_\n",
        "etiquetas = k_means.labels_"
      ],
      "execution_count": 58,
      "outputs": []
    },
    {
      "cell_type": "markdown",
      "metadata": {
        "id": "5pGAQFhk8z_i"
      },
      "source": [
        "Nuevamente mostramos las **nuevas** etiquetas del conjunto de datos"
      ]
    },
    {
      "cell_type": "code",
      "metadata": {
        "colab": {
          "base_uri": "https://localhost:8080/",
          "height": 268
        },
        "id": "scmZ5_WR2a69",
        "outputId": "ed53077c-12d5-409e-c1c0-5b1fde28363b"
      },
      "source": [
        "plt.plot(X[etiquetas==0,0],X[etiquetas==0,1],'ro', label='cluster 1')\n",
        "plt.plot(X[etiquetas==1,0],X[etiquetas==1,1],'bo', label='cluster 2')\n",
        "plt.plot(X[etiquetas==2,0],X[etiquetas==2,1],'go', label='cluster 3')\n",
        "\n",
        "plt.plot(centroides[:,0],centroides[:,1],'mo',markersize=8, label='centroides')\n",
        "\n",
        "plt.legend(loc='best')\n",
        "plt.show()"
      ],
      "execution_count": 60,
      "outputs": [
        {
          "output_type": "display_data",
          "data": {
            "image/png": "[encoded data removed]",
            "text/plain": [
              "<Figure size 432x288 with 1 Axes>"
            ]
          },
          "metadata": {
            "tags": [],
            "needs_background": "light"
          }
        }
      ]
    },
    {
      "cell_type": "markdown",
      "metadata": {
        "id": "bSvHAue951EV"
      },
      "source": [
        "**IRIS con centroides elegidos aleatoriamente**"
      ]
    },
    {
      "cell_type": "code",
      "metadata": {
        "colab": {
          "base_uri": "https://localhost:8080/"
        },
        "id": "MrOe5axj5znY",
        "outputId": "29fdb935-57c4-4f3d-ed77-d6e8249cac64"
      },
      "source": [
        "np.random.seed(0)\n",
        "\n",
        "mius = np.random.uniform(2, 8, (3, 2))\n",
        "\n",
        "n = 3\n",
        "k_means = KMeans(n_clusters=n, init = mius)\n",
        "k_means.fit(X)"
      ],
      "execution_count": 81,
      "outputs": [
        {
          "output_type": "stream",
          "text": [
            "/usr/local/lib/python3.7/dist-packages/ipykernel_launcher.py:7: RuntimeWarning: Explicit initial center position passed: performing only one init in k-means instead of n_init=10\n",
            "  import sys\n"
          ],
          "name": "stderr"
        },
        {
          "output_type": "execute_result",
          "data": {
            "text/plain": [
              "KMeans(algorithm='auto', copy_x=True,\n",
              "       init=array([[5.29288102, 6.2911362 ],\n",
              "       [5.61658026, 5.2692991 ],\n",
              "       [4.5419288 , 5.87536468]]),\n",
              "       max_iter=300, n_clusters=3, n_init=10, n_jobs=None,\n",
              "       precompute_distances='auto', random_state=None, tol=0.0001, verbose=0)"
            ]
          },
          "metadata": {
            "tags": []
          },
          "execution_count": 81
        }
      ]
    },
    {
      "cell_type": "code",
      "metadata": {
        "colab": {
          "base_uri": "https://localhost:8080/",
          "height": 313
        },
        "id": "UhR7vQF07TqX",
        "outputId": "e762fb95-0f7d-404a-8046-1726cba151e2"
      },
      "source": [
        "'''Gráfica de puntos (scatter plot)'''\n",
        "#Graficaremos a las flores en función de las medidas del sépalo\n",
        "plt.title('Gráfica de puntos') #Título de la gráfica\n",
        "plt.xlabel('Longitud del sépalo') #Nombre del eje x\n",
        "plt.ylabel('Ancho del sépalo') #Nombre del eje y\n",
        "plt.plot(data['sepal.length'], data['sepal.width'], \"ko\")\n",
        "\n",
        "mius = np.array([[5., 3.], [6., 2.], [6.5, 4.]])\n",
        "plt.plot(mius[:, 0], mius[:, 1], \"mo\", markersize=8, label='centroides')\n",
        "\n",
        "plt.legend(loc='best')"
      ],
      "execution_count": 79,
      "outputs": [
        {
          "output_type": "execute_result",
          "data": {
            "text/plain": [
              "<matplotlib.legend.Legend at 0x7f0fe7518f90>"
            ]
          },
          "metadata": {
            "tags": []
          },
          "execution_count": 79
        },
        {
          "output_type": "display_data",
          "data": {
            "image/png": "[encoded data removed]",
            "text/plain": [
              "<Figure size 432x288 with 1 Axes>"
            ]
          },
          "metadata": {
            "tags": [],
            "needs_background": "light"
          }
        }
      ]
    },
    {
      "cell_type": "code",
      "metadata": {
        "colab": {
          "base_uri": "https://localhost:8080/",
          "height": 268
        },
        "id": "fcWJ1d6956lu",
        "outputId": "d967b019-6923-4ff6-a4a2-9e97569aa4ff"
      },
      "source": [
        "centroides = k_means.cluster_centers_\n",
        "etiquetas = k_means.labels_\n",
        "\n",
        "plt.plot(X[etiquetas==0,0],X[etiquetas==0,1],'ro', label='cluster 1')\n",
        "plt.plot(X[etiquetas==1,0],X[etiquetas==1,1],'bo', label='cluster 2')\n",
        "plt.plot(X[etiquetas==2,0],X[etiquetas==2,1],'go', label='cluster 3')\n",
        "\n",
        "plt.plot(centroides[:,0],centroides[:,1],'mo',markersize=8, label='centroides')\n",
        "\n",
        "plt.legend(loc='best')\n",
        "plt.show()"
      ],
      "execution_count": 80,
      "outputs": [
        {
          "output_type": "display_data",
          "data": {
            "image/png": "[encoded data removed]",
            "text/plain": [
              "<Figure size 432x288 with 1 Axes>"
            ]
          },
          "metadata": {
            "tags": [],
            "needs_background": "light"
          }
        }
      ]
    }
  ]
}