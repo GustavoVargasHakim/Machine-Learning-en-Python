{
  "nbformat": 4,
  "nbformat_minor": 0,
  "metadata": {
    "colab": {
      "name": "Redes Neuronales Convolucionales - Día 4.ipynb",
      "provenance": []
    },
    "kernelspec": {
      "name": "python3",
      "display_name": "Python 3"
    },
    "language_info": {
      "name": "python"
    },
    "accelerator": "GPU",
    "widgets": {
      "application/vnd.jupyter.widget-state+json": {
        "68e9b70e7e474b77a24f57430aaad1a0": {
          "model_module": "@jupyter-widgets/controls",
          "model_name": "HBoxModel",
          "state": {
            "_view_name": "HBoxView",
            "_dom_classes": [],
            "_model_name": "HBoxModel",
            "_view_module": "@jupyter-widgets/controls",
            "_model_module_version": "1.5.0",
            "_view_count": null,
            "_view_module_version": "1.5.0",
            "box_style": "",
            "layout": "IPY_MODEL_abc108ba23d4425185f4e5fbcc040a73",
            "_model_module": "@jupyter-widgets/controls",
            "children": [
              "IPY_MODEL_4cc34ad81775452b96a291e7514876f6",
              "IPY_MODEL_8a0f1cd82edf436dbc7ac97f829c65d7"
            ]
          }
        },
        "abc108ba23d4425185f4e5fbcc040a73": {
          "model_module": "@jupyter-widgets/base",
          "model_name": "LayoutModel",
          "state": {
            "_view_name": "LayoutView",
            "grid_template_rows": null,
            "right": null,
            "justify_content": null,
            "_view_module": "@jupyter-widgets/base",
            "overflow": null,
            "_model_module_version": "1.2.0",
            "_view_count": null,
            "flex_flow": null,
            "width": null,
            "min_width": null,
            "border": null,
            "align_items": null,
            "bottom": null,
            "_model_module": "@jupyter-widgets/base",
            "top": null,
            "grid_column": null,
            "overflow_y": null,
            "overflow_x": null,
            "grid_auto_flow": null,
            "grid_area": null,
            "grid_template_columns": null,
            "flex": null,
            "_model_name": "LayoutModel",
            "justify_items": null,
            "grid_row": null,
            "max_height": null,
            "align_content": null,
            "visibility": null,
            "align_self": null,
            "height": null,
            "min_height": null,
            "padding": null,
            "grid_auto_rows": null,
            "grid_gap": null,
            "max_width": null,
            "order": null,
            "_view_module_version": "1.2.0",
            "grid_template_areas": null,
            "object_position": null,
            "object_fit": null,
            "grid_auto_columns": null,
            "margin": null,
            "display": null,
            "left": null
          }
        },
        "4cc34ad81775452b96a291e7514876f6": {
          "model_module": "@jupyter-widgets/controls",
          "model_name": "FloatProgressModel",
          "state": {
            "_view_name": "ProgressView",
            "style": "IPY_MODEL_d8857a129526490eb4a7a8e9fecdf7b9",
            "_dom_classes": [],
            "description": "",
            "_model_name": "FloatProgressModel",
            "bar_style": "success",
            "max": 9912422,
            "_view_module": "@jupyter-widgets/controls",
            "_model_module_version": "1.5.0",
            "value": 9912422,
            "_view_count": null,
            "_view_module_version": "1.5.0",
            "orientation": "horizontal",
            "min": 0,
            "description_tooltip": null,
            "_model_module": "@jupyter-widgets/controls",
            "layout": "IPY_MODEL_c920f3488fdb471d8cb68e7863efad74"
          }
        },
        "8a0f1cd82edf436dbc7ac97f829c65d7": {
          "model_module": "@jupyter-widgets/controls",
          "model_name": "HTMLModel",
          "state": {
            "_view_name": "HTMLView",
            "style": "IPY_MODEL_a20fcff2fcb94dacb6ffa6bd85981a17",
            "_dom_classes": [],
            "description": "",
            "_model_name": "HTMLModel",
            "placeholder": "​",
            "_view_module": "@jupyter-widgets/controls",
            "_model_module_version": "1.5.0",
            "value": " 9913344/? [00:05&lt;00:00, 1896654.39it/s]",
            "_view_count": null,
            "_view_module_version": "1.5.0",
            "description_tooltip": null,
            "_model_module": "@jupyter-widgets/controls",
            "layout": "IPY_MODEL_b442271288814a008e723599b8fc4e91"
          }
        },
        "d8857a129526490eb4a7a8e9fecdf7b9": {
          "model_module": "@jupyter-widgets/controls",
          "model_name": "ProgressStyleModel",
          "state": {
            "_view_name": "StyleView",
            "_model_name": "ProgressStyleModel",
            "description_width": "initial",
            "_view_module": "@jupyter-widgets/base",
            "_model_module_version": "1.5.0",
            "_view_count": null,
            "_view_module_version": "1.2.0",
            "bar_color": null,
            "_model_module": "@jupyter-widgets/controls"
          }
        },
        "c920f3488fdb471d8cb68e7863efad74": {
          "model_module": "@jupyter-widgets/base",
          "model_name": "LayoutModel",
          "state": {
            "_view_name": "LayoutView",
            "grid_template_rows": null,
            "right": null,
            "justify_content": null,
            "_view_module": "@jupyter-widgets/base",
            "overflow": null,
            "_model_module_version": "1.2.0",
            "_view_count": null,
            "flex_flow": null,
            "width": null,
            "min_width": null,
            "border": null,
            "align_items": null,
            "bottom": null,
            "_model_module": "@jupyter-widgets/base",
            "top": null,
            "grid_column": null,
            "overflow_y": null,
            "overflow_x": null,
            "grid_auto_flow": null,
            "grid_area": null,
            "grid_template_columns": null,
            "flex": null,
            "_model_name": "LayoutModel",
            "justify_items": null,
            "grid_row": null,
            "max_height": null,
            "align_content": null,
            "visibility": null,
            "align_self": null,
            "height": null,
            "min_height": null,
            "padding": null,
            "grid_auto_rows": null,
            "grid_gap": null,
            "max_width": null,
            "order": null,
            "_view_module_version": "1.2.0",
            "grid_template_areas": null,
            "object_position": null,
            "object_fit": null,
            "grid_auto_columns": null,
            "margin": null,
            "display": null,
            "left": null
          }
        },
        "a20fcff2fcb94dacb6ffa6bd85981a17": {
          "model_module": "@jupyter-widgets/controls",
          "model_name": "DescriptionStyleModel",
          "state": {
            "_view_name": "StyleView",
            "_model_name": "DescriptionStyleModel",
            "description_width": "",
            "_view_module": "@jupyter-widgets/base",
            "_model_module_version": "1.5.0",
            "_view_count": null,
            "_view_module_version": "1.2.0",
            "_model_module": "@jupyter-widgets/controls"
          }
        },
        "b442271288814a008e723599b8fc4e91": {
          "model_module": "@jupyter-widgets/base",
          "model_name": "LayoutModel",
          "state": {
            "_view_name": "LayoutView",
            "grid_template_rows": null,
            "right": null,
            "justify_content": null,
            "_view_module": "@jupyter-widgets/base",
            "overflow": null,
            "_model_module_version": "1.2.0",
            "_view_count": null,
            "flex_flow": null,
            "width": null,
            "min_width": null,
            "border": null,
            "align_items": null,
            "bottom": null,
            "_model_module": "@jupyter-widgets/base",
            "top": null,
            "grid_column": null,
            "overflow_y": null,
            "overflow_x": null,
            "grid_auto_flow": null,
            "grid_area": null,
            "grid_template_columns": null,
            "flex": null,
            "_model_name": "LayoutModel",
            "justify_items": null,
            "grid_row": null,
            "max_height": null,
            "align_content": null,
            "visibility": null,
            "align_self": null,
            "height": null,
            "min_height": null,
            "padding": null,
            "grid_auto_rows": null,
            "grid_gap": null,
            "max_width": null,
            "order": null,
            "_view_module_version": "1.2.0",
            "grid_template_areas": null,
            "object_position": null,
            "object_fit": null,
            "grid_auto_columns": null,
            "margin": null,
            "display": null,
            "left": null
          }
        },
        "61ce6c9957044e418684ebf8c907ca4c": {
          "model_module": "@jupyter-widgets/controls",
          "model_name": "HBoxModel",
          "state": {
            "_view_name": "HBoxView",
            "_dom_classes": [],
            "_model_name": "HBoxModel",
            "_view_module": "@jupyter-widgets/controls",
            "_model_module_version": "1.5.0",
            "_view_count": null,
            "_view_module_version": "1.5.0",
            "box_style": "",
            "layout": "IPY_MODEL_c4eb45e4b058462886fa1d1afc603576",
            "_model_module": "@jupyter-widgets/controls",
            "children": [
              "IPY_MODEL_d6ed82ac7e834cf395eef8f7abadb6dc",
              "IPY_MODEL_aabced2247564426af190f1c641bb5c7"
            ]
          }
        },
        "c4eb45e4b058462886fa1d1afc603576": {
          "model_module": "@jupyter-widgets/base",
          "model_name": "LayoutModel",
          "state": {
            "_view_name": "LayoutView",
            "grid_template_rows": null,
            "right": null,
            "justify_content": null,
            "_view_module": "@jupyter-widgets/base",
            "overflow": null,
            "_model_module_version": "1.2.0",
            "_view_count": null,
            "flex_flow": null,
            "width": null,
            "min_width": null,
            "border": null,
            "align_items": null,
            "bottom": null,
            "_model_module": "@jupyter-widgets/base",
            "top": null,
            "grid_column": null,
            "overflow_y": null,
            "overflow_x": null,
            "grid_auto_flow": null,
            "grid_area": null,
            "grid_template_columns": null,
            "flex": null,
            "_model_name": "LayoutModel",
            "justify_items": null,
            "grid_row": null,
            "max_height": null,
            "align_content": null,
            "visibility": null,
            "align_self": null,
            "height": null,
            "min_height": null,
            "padding": null,
            "grid_auto_rows": null,
            "grid_gap": null,
            "max_width": null,
            "order": null,
            "_view_module_version": "1.2.0",
            "grid_template_areas": null,
            "object_position": null,
            "object_fit": null,
            "grid_auto_columns": null,
            "margin": null,
            "display": null,
            "left": null
          }
        },
        "d6ed82ac7e834cf395eef8f7abadb6dc": {
          "model_module": "@jupyter-widgets/controls",
          "model_name": "FloatProgressModel",
          "state": {
            "_view_name": "ProgressView",
            "style": "IPY_MODEL_1a648126452549a0b960faae5bc634f9",
            "_dom_classes": [],
            "description": "",
            "_model_name": "FloatProgressModel",
            "bar_style": "success",
            "max": 28881,
            "_view_module": "@jupyter-widgets/controls",
            "_model_module_version": "1.5.0",
            "value": 28881,
            "_view_count": null,
            "_view_module_version": "1.5.0",
            "orientation": "horizontal",
            "min": 0,
            "description_tooltip": null,
            "_model_module": "@jupyter-widgets/controls",
            "layout": "IPY_MODEL_072ad7450bca479f88d4cc93bcb7173f"
          }
        },
        "aabced2247564426af190f1c641bb5c7": {
          "model_module": "@jupyter-widgets/controls",
          "model_name": "HTMLModel",
          "state": {
            "_view_name": "HTMLView",
            "style": "IPY_MODEL_e969ebe1bf9a4fca994c0bfe20ea2813",
            "_dom_classes": [],
            "description": "",
            "_model_name": "HTMLModel",
            "placeholder": "​",
            "_view_module": "@jupyter-widgets/controls",
            "_model_module_version": "1.5.0",
            "value": " 29696/? [00:01&lt;00:00, 24812.35it/s]",
            "_view_count": null,
            "_view_module_version": "1.5.0",
            "description_tooltip": null,
            "_model_module": "@jupyter-widgets/controls",
            "layout": "IPY_MODEL_dae81aade3cc473f9b3656fac15a97a1"
          }
        },
        "1a648126452549a0b960faae5bc634f9": {
          "model_module": "@jupyter-widgets/controls",
          "model_name": "ProgressStyleModel",
          "state": {
            "_view_name": "StyleView",
            "_model_name": "ProgressStyleModel",
            "description_width": "initial",
            "_view_module": "@jupyter-widgets/base",
            "_model_module_version": "1.5.0",
            "_view_count": null,
            "_view_module_version": "1.2.0",
            "bar_color": null,
            "_model_module": "@jupyter-widgets/controls"
          }
        },
        "072ad7450bca479f88d4cc93bcb7173f": {
          "model_module": "@jupyter-widgets/base",
          "model_name": "LayoutModel",
          "state": {
            "_view_name": "LayoutView",
            "grid_template_rows": null,
            "right": null,
            "justify_content": null,
            "_view_module": "@jupyter-widgets/base",
            "overflow": null,
            "_model_module_version": "1.2.0",
            "_view_count": null,
            "flex_flow": null,
            "width": null,
            "min_width": null,
            "border": null,
            "align_items": null,
            "bottom": null,
            "_model_module": "@jupyter-widgets/base",
            "top": null,
            "grid_column": null,
            "overflow_y": null,
            "overflow_x": null,
            "grid_auto_flow": null,
            "grid_area": null,
            "grid_template_columns": null,
            "flex": null,
            "_model_name": "LayoutModel",
            "justify_items": null,
            "grid_row": null,
            "max_height": null,
            "align_content": null,
            "visibility": null,
            "align_self": null,
            "height": null,
            "min_height": null,
            "padding": null,
            "grid_auto_rows": null,
            "grid_gap": null,
            "max_width": null,
            "order": null,
            "_view_module_version": "1.2.0",
            "grid_template_areas": null,
            "object_position": null,
            "object_fit": null,
            "grid_auto_columns": null,
            "margin": null,
            "display": null,
            "left": null
          }
        },
        "e969ebe1bf9a4fca994c0bfe20ea2813": {
          "model_module": "@jupyter-widgets/controls",
          "model_name": "DescriptionStyleModel",
          "state": {
            "_view_name": "StyleView",
            "_model_name": "DescriptionStyleModel",
            "description_width": "",
            "_view_module": "@jupyter-widgets/base",
            "_model_module_version": "1.5.0",
            "_view_count": null,
            "_view_module_version": "1.2.0",
            "_model_module": "@jupyter-widgets/controls"
          }
        },
        "dae81aade3cc473f9b3656fac15a97a1": {
          "model_module": "@jupyter-widgets/base",
          "model_name": "LayoutModel",
          "state": {
            "_view_name": "LayoutView",
            "grid_template_rows": null,
            "right": null,
            "justify_content": null,
            "_view_module": "@jupyter-widgets/base",
            "overflow": null,
            "_model_module_version": "1.2.0",
            "_view_count": null,
            "flex_flow": null,
            "width": null,
            "min_width": null,
            "border": null,
            "align_items": null,
            "bottom": null,
            "_model_module": "@jupyter-widgets/base",
            "top": null,
            "grid_column": null,
            "overflow_y": null,
            "overflow_x": null,
            "grid_auto_flow": null,
            "grid_area": null,
            "grid_template_columns": null,
            "flex": null,
            "_model_name": "LayoutModel",
            "justify_items": null,
            "grid_row": null,
            "max_height": null,
            "align_content": null,
            "visibility": null,
            "align_self": null,
            "height": null,
            "min_height": null,
            "padding": null,
            "grid_auto_rows": null,
            "grid_gap": null,
            "max_width": null,
            "order": null,
            "_view_module_version": "1.2.0",
            "grid_template_areas": null,
            "object_position": null,
            "object_fit": null,
            "grid_auto_columns": null,
            "margin": null,
            "display": null,
            "left": null
          }
        },
        "1cdff0ec87e94a508857859283aa9b12": {
          "model_module": "@jupyter-widgets/controls",
          "model_name": "HBoxModel",
          "state": {
            "_view_name": "HBoxView",
            "_dom_classes": [],
            "_model_name": "HBoxModel",
            "_view_module": "@jupyter-widgets/controls",
            "_model_module_version": "1.5.0",
            "_view_count": null,
            "_view_module_version": "1.5.0",
            "box_style": "",
            "layout": "IPY_MODEL_d660ce0353984650aa7fe7e02b14a041",
            "_model_module": "@jupyter-widgets/controls",
            "children": [
              "IPY_MODEL_19de507bae2443379b727a7a738a5b80",
              "IPY_MODEL_01a9ab1780a64105a7d9805aa3610c06"
            ]
          }
        },
        "d660ce0353984650aa7fe7e02b14a041": {
          "model_module": "@jupyter-widgets/base",
          "model_name": "LayoutModel",
          "state": {
            "_view_name": "LayoutView",
            "grid_template_rows": null,
            "right": null,
            "justify_content": null,
            "_view_module": "@jupyter-widgets/base",
            "overflow": null,
            "_model_module_version": "1.2.0",
            "_view_count": null,
            "flex_flow": null,
            "width": null,
            "min_width": null,
            "border": null,
            "align_items": null,
            "bottom": null,
            "_model_module": "@jupyter-widgets/base",
            "top": null,
            "grid_column": null,
            "overflow_y": null,
            "overflow_x": null,
            "grid_auto_flow": null,
            "grid_area": null,
            "grid_template_columns": null,
            "flex": null,
            "_model_name": "LayoutModel",
            "justify_items": null,
            "grid_row": null,
            "max_height": null,
            "align_content": null,
            "visibility": null,
            "align_self": null,
            "height": null,
            "min_height": null,
            "padding": null,
            "grid_auto_rows": null,
            "grid_gap": null,
            "max_width": null,
            "order": null,
            "_view_module_version": "1.2.0",
            "grid_template_areas": null,
            "object_position": null,
            "object_fit": null,
            "grid_auto_columns": null,
            "margin": null,
            "display": null,
            "left": null
          }
        },
        "19de507bae2443379b727a7a738a5b80": {
          "model_module": "@jupyter-widgets/controls",
          "model_name": "FloatProgressModel",
          "state": {
            "_view_name": "ProgressView",
            "style": "IPY_MODEL_914604aacf67454da04b1946ef45736b",
            "_dom_classes": [],
            "description": "",
            "_model_name": "FloatProgressModel",
            "bar_style": "success",
            "max": 1648877,
            "_view_module": "@jupyter-widgets/controls",
            "_model_module_version": "1.5.0",
            "value": 1648877,
            "_view_count": null,
            "_view_module_version": "1.5.0",
            "orientation": "horizontal",
            "min": 0,
            "description_tooltip": null,
            "_model_module": "@jupyter-widgets/controls",
            "layout": "IPY_MODEL_d0a9f1778f784e239f6481ffd1e82a20"
          }
        },
        "01a9ab1780a64105a7d9805aa3610c06": {
          "model_module": "@jupyter-widgets/controls",
          "model_name": "HTMLModel",
          "state": {
            "_view_name": "HTMLView",
            "style": "IPY_MODEL_3577a12277f842bba470fc8673e2934b",
            "_dom_classes": [],
            "description": "",
            "_model_name": "HTMLModel",
            "placeholder": "​",
            "_view_module": "@jupyter-widgets/controls",
            "_model_module_version": "1.5.0",
            "value": " 1649664/? [00:02&lt;00:00, 644483.63it/s]",
            "_view_count": null,
            "_view_module_version": "1.5.0",
            "description_tooltip": null,
            "_model_module": "@jupyter-widgets/controls",
            "layout": "IPY_MODEL_931571643c024fc3ab31f51f29498130"
          }
        },
        "914604aacf67454da04b1946ef45736b": {
          "model_module": "@jupyter-widgets/controls",
          "model_name": "ProgressStyleModel",
          "state": {
            "_view_name": "StyleView",
            "_model_name": "ProgressStyleModel",
            "description_width": "initial",
            "_view_module": "@jupyter-widgets/base",
            "_model_module_version": "1.5.0",
            "_view_count": null,
            "_view_module_version": "1.2.0",
            "bar_color": null,
            "_model_module": "@jupyter-widgets/controls"
          }
        },
        "d0a9f1778f784e239f6481ffd1e82a20": {
          "model_module": "@jupyter-widgets/base",
          "model_name": "LayoutModel",
          "state": {
            "_view_name": "LayoutView",
            "grid_template_rows": null,
            "right": null,
            "justify_content": null,
            "_view_module": "@jupyter-widgets/base",
            "overflow": null,
            "_model_module_version": "1.2.0",
            "_view_count": null,
            "flex_flow": null,
            "width": null,
            "min_width": null,
            "border": null,
            "align_items": null,
            "bottom": null,
            "_model_module": "@jupyter-widgets/base",
            "top": null,
            "grid_column": null,
            "overflow_y": null,
            "overflow_x": null,
            "grid_auto_flow": null,
            "grid_area": null,
            "grid_template_columns": null,
            "flex": null,
            "_model_name": "LayoutModel",
            "justify_items": null,
            "grid_row": null,
            "max_height": null,
            "align_content": null,
            "visibility": null,
            "align_self": null,
            "height": null,
            "min_height": null,
            "padding": null,
            "grid_auto_rows": null,
            "grid_gap": null,
            "max_width": null,
            "order": null,
            "_view_module_version": "1.2.0",
            "grid_template_areas": null,
            "object_position": null,
            "object_fit": null,
            "grid_auto_columns": null,
            "margin": null,
            "display": null,
            "left": null
          }
        },
        "3577a12277f842bba470fc8673e2934b": {
          "model_module": "@jupyter-widgets/controls",
          "model_name": "DescriptionStyleModel",
          "state": {
            "_view_name": "StyleView",
            "_model_name": "DescriptionStyleModel",
            "description_width": "",
            "_view_module": "@jupyter-widgets/base",
            "_model_module_version": "1.5.0",
            "_view_count": null,
            "_view_module_version": "1.2.0",
            "_model_module": "@jupyter-widgets/controls"
          }
        },
        "931571643c024fc3ab31f51f29498130": {
          "model_module": "@jupyter-widgets/base",
          "model_name": "LayoutModel",
          "state": {
            "_view_name": "LayoutView",
            "grid_template_rows": null,
            "right": null,
            "justify_content": null,
            "_view_module": "@jupyter-widgets/base",
            "overflow": null,
            "_model_module_version": "1.2.0",
            "_view_count": null,
            "flex_flow": null,
            "width": null,
            "min_width": null,
            "border": null,
            "align_items": null,
            "bottom": null,
            "_model_module": "@jupyter-widgets/base",
            "top": null,
            "grid_column": null,
            "overflow_y": null,
            "overflow_x": null,
            "grid_auto_flow": null,
            "grid_area": null,
            "grid_template_columns": null,
            "flex": null,
            "_model_name": "LayoutModel",
            "justify_items": null,
            "grid_row": null,
            "max_height": null,
            "align_content": null,
            "visibility": null,
            "align_self": null,
            "height": null,
            "min_height": null,
            "padding": null,
            "grid_auto_rows": null,
            "grid_gap": null,
            "max_width": null,
            "order": null,
            "_view_module_version": "1.2.0",
            "grid_template_areas": null,
            "object_position": null,
            "object_fit": null,
            "grid_auto_columns": null,
            "margin": null,
            "display": null,
            "left": null
          }
        },
        "f8626b63e7fa42db9f7e7e217f273a4d": {
          "model_module": "@jupyter-widgets/controls",
          "model_name": "HBoxModel",
          "state": {
            "_view_name": "HBoxView",
            "_dom_classes": [],
            "_model_name": "HBoxModel",
            "_view_module": "@jupyter-widgets/controls",
            "_model_module_version": "1.5.0",
            "_view_count": null,
            "_view_module_version": "1.5.0",
            "box_style": "",
            "layout": "IPY_MODEL_4fc8b2ea722d4de9b0f0af686bf4ac17",
            "_model_module": "@jupyter-widgets/controls",
            "children": [
              "IPY_MODEL_5ee0f2ac49d4428b951bc755d9333918",
              "IPY_MODEL_196534b63b2147068cef085051a4ea3a"
            ]
          }
        },
        "4fc8b2ea722d4de9b0f0af686bf4ac17": {
          "model_module": "@jupyter-widgets/base",
          "model_name": "LayoutModel",
          "state": {
            "_view_name": "LayoutView",
            "grid_template_rows": null,
            "right": null,
            "justify_content": null,
            "_view_module": "@jupyter-widgets/base",
            "overflow": null,
            "_model_module_version": "1.2.0",
            "_view_count": null,
            "flex_flow": null,
            "width": null,
            "min_width": null,
            "border": null,
            "align_items": null,
            "bottom": null,
            "_model_module": "@jupyter-widgets/base",
            "top": null,
            "grid_column": null,
            "overflow_y": null,
            "overflow_x": null,
            "grid_auto_flow": null,
            "grid_area": null,
            "grid_template_columns": null,
            "flex": null,
            "_model_name": "LayoutModel",
            "justify_items": null,
            "grid_row": null,
            "max_height": null,
            "align_content": null,
            "visibility": null,
            "align_self": null,
            "height": null,
            "min_height": null,
            "padding": null,
            "grid_auto_rows": null,
            "grid_gap": null,
            "max_width": null,
            "order": null,
            "_view_module_version": "1.2.0",
            "grid_template_areas": null,
            "object_position": null,
            "object_fit": null,
            "grid_auto_columns": null,
            "margin": null,
            "display": null,
            "left": null
          }
        },
        "5ee0f2ac49d4428b951bc755d9333918": {
          "model_module": "@jupyter-widgets/controls",
          "model_name": "FloatProgressModel",
          "state": {
            "_view_name": "ProgressView",
            "style": "IPY_MODEL_f343c817eab24be2af230f115ff526e7",
            "_dom_classes": [],
            "description": "",
            "_model_name": "FloatProgressModel",
            "bar_style": "success",
            "max": 4542,
            "_view_module": "@jupyter-widgets/controls",
            "_model_module_version": "1.5.0",
            "value": 4542,
            "_view_count": null,
            "_view_module_version": "1.5.0",
            "orientation": "horizontal",
            "min": 0,
            "description_tooltip": null,
            "_model_module": "@jupyter-widgets/controls",
            "layout": "IPY_MODEL_dac9e4d9e5514289b0641b8f36e50ee4"
          }
        },
        "196534b63b2147068cef085051a4ea3a": {
          "model_module": "@jupyter-widgets/controls",
          "model_name": "HTMLModel",
          "state": {
            "_view_name": "HTMLView",
            "style": "IPY_MODEL_a3247cf6bf7d45b9a877154af9ea99fe",
            "_dom_classes": [],
            "description": "",
            "_model_name": "HTMLModel",
            "placeholder": "​",
            "_view_module": "@jupyter-widgets/controls",
            "_model_module_version": "1.5.0",
            "value": " 5120/? [00:00&lt;00:00, 13486.19it/s]",
            "_view_count": null,
            "_view_module_version": "1.5.0",
            "description_tooltip": null,
            "_model_module": "@jupyter-widgets/controls",
            "layout": "IPY_MODEL_6ea63e43bc5f45dca4537d727281ef59"
          }
        },
        "f343c817eab24be2af230f115ff526e7": {
          "model_module": "@jupyter-widgets/controls",
          "model_name": "ProgressStyleModel",
          "state": {
            "_view_name": "StyleView",
            "_model_name": "ProgressStyleModel",
            "description_width": "initial",
            "_view_module": "@jupyter-widgets/base",
            "_model_module_version": "1.5.0",
            "_view_count": null,
            "_view_module_version": "1.2.0",
            "bar_color": null,
            "_model_module": "@jupyter-widgets/controls"
          }
        },
        "dac9e4d9e5514289b0641b8f36e50ee4": {
          "model_module": "@jupyter-widgets/base",
          "model_name": "LayoutModel",
          "state": {
            "_view_name": "LayoutView",
            "grid_template_rows": null,
            "right": null,
            "justify_content": null,
            "_view_module": "@jupyter-widgets/base",
            "overflow": null,
            "_model_module_version": "1.2.0",
            "_view_count": null,
            "flex_flow": null,
            "width": null,
            "min_width": null,
            "border": null,
            "align_items": null,
            "bottom": null,
            "_model_module": "@jupyter-widgets/base",
            "top": null,
            "grid_column": null,
            "overflow_y": null,
            "overflow_x": null,
            "grid_auto_flow": null,
            "grid_area": null,
            "grid_template_columns": null,
            "flex": null,
            "_model_name": "LayoutModel",
            "justify_items": null,
            "grid_row": null,
            "max_height": null,
            "align_content": null,
            "visibility": null,
            "align_self": null,
            "height": null,
            "min_height": null,
            "padding": null,
            "grid_auto_rows": null,
            "grid_gap": null,
            "max_width": null,
            "order": null,
            "_view_module_version": "1.2.0",
            "grid_template_areas": null,
            "object_position": null,
            "object_fit": null,
            "grid_auto_columns": null,
            "margin": null,
            "display": null,
            "left": null
          }
        },
        "a3247cf6bf7d45b9a877154af9ea99fe": {
          "model_module": "@jupyter-widgets/controls",
          "model_name": "DescriptionStyleModel",
          "state": {
            "_view_name": "StyleView",
            "_model_name": "DescriptionStyleModel",
            "description_width": "",
            "_view_module": "@jupyter-widgets/base",
            "_model_module_version": "1.5.0",
            "_view_count": null,
            "_view_module_version": "1.2.0",
            "_model_module": "@jupyter-widgets/controls"
          }
        },
        "6ea63e43bc5f45dca4537d727281ef59": {
          "model_module": "@jupyter-widgets/base",
          "model_name": "LayoutModel",
          "state": {
            "_view_name": "LayoutView",
            "grid_template_rows": null,
            "right": null,
            "justify_content": null,
            "_view_module": "@jupyter-widgets/base",
            "overflow": null,
            "_model_module_version": "1.2.0",
            "_view_count": null,
            "flex_flow": null,
            "width": null,
            "min_width": null,
            "border": null,
            "align_items": null,
            "bottom": null,
            "_model_module": "@jupyter-widgets/base",
            "top": null,
            "grid_column": null,
            "overflow_y": null,
            "overflow_x": null,
            "grid_auto_flow": null,
            "grid_area": null,
            "grid_template_columns": null,
            "flex": null,
            "_model_name": "LayoutModel",
            "justify_items": null,
            "grid_row": null,
            "max_height": null,
            "align_content": null,
            "visibility": null,
            "align_self": null,
            "height": null,
            "min_height": null,
            "padding": null,
            "grid_auto_rows": null,
            "grid_gap": null,
            "max_width": null,
            "order": null,
            "_view_module_version": "1.2.0",
            "grid_template_areas": null,
            "object_position": null,
            "object_fit": null,
            "grid_auto_columns": null,
            "margin": null,
            "display": null,
            "left": null
          }
        }
      }
    }
  },
  "cells": [
    {
      "cell_type": "markdown",
      "metadata": {
        "id": "ClnHI0Kaa0W0"
      },
      "source": [
        "# **Taller de Aprendizaje Automático en Python - Día 4**\n",
        "\n",
        "## **Autores:**\n",
        "\n",
        "\n",
        "\n",
        "*   José Clemente Hernández Hernández\n",
        "*   Gustavo Adolfo Vargas Hákim\n"
      ]
    },
    {
      "cell_type": "markdown",
      "metadata": {
        "id": "LThRoOIIa4Gj"
      },
      "source": [
        "# **Redes Neuronales Convolucionales**"
      ]
    },
    {
      "cell_type": "markdown",
      "metadata": {
        "id": "5Z_X1lAAa7wV"
      },
      "source": [
        "Utilizaremos la librería PyTorch para programar nuestras Redes Neuronales Convolucionales (CNN). PyTorch nos ofrece varias características muy atractivas:\n",
        "\n",
        "*   Paquetería para Deep Learning\n",
        "*   Diferenciador Automático\n",
        "*   Interfaz con CUDA para utilizar GPUs\n",
        "\n"
      ]
    },
    {
      "cell_type": "code",
      "metadata": {
        "colab": {
          "base_uri": "https://localhost:8080/"
        },
        "id": "Kbzg2aecaxA5",
        "outputId": "07ddadb9-5e5b-4447-d527-f5415945e289"
      },
      "source": [
        "!pip3 install torch torchvision torchaudio"
      ],
      "execution_count": 1,
      "outputs": [
        {
          "output_type": "stream",
          "text": [
            "Requirement already satisfied: torch in /usr/local/lib/python3.7/dist-packages (1.8.1+cu101)\n",
            "Requirement already satisfied: torchvision in /usr/local/lib/python3.7/dist-packages (0.9.1+cu101)\n",
            "Collecting torchaudio\n",
            "\u001b[?25l  Downloading https://files.pythonhosted.org/packages/aa/55/01ad9244bcd595e39cea5ce30726a7fe02fd963d07daeb136bfe7e23f0a5/torchaudio-0.8.1-cp37-cp37m-manylinux1_x86_64.whl (1.9MB)\n",
            "\u001b[K     |████████████████████████████████| 1.9MB 7.6MB/s \n",
            "\u001b[?25hRequirement already satisfied: typing-extensions in /usr/local/lib/python3.7/dist-packages (from torch) (3.7.4.3)\n",
            "Requirement already satisfied: numpy in /usr/local/lib/python3.7/dist-packages (from torch) (1.19.5)\n",
            "Requirement already satisfied: pillow>=4.1.1 in /usr/local/lib/python3.7/dist-packages (from torchvision) (7.1.2)\n",
            "Installing collected packages: torchaudio\n",
            "Successfully installed torchaudio-0.8.1\n"
          ],
          "name": "stdout"
        }
      ]
    },
    {
      "cell_type": "markdown",
      "metadata": {
        "id": "4cQHpI9JuLaL"
      },
      "source": [
        "**Importando Librerías**"
      ]
    },
    {
      "cell_type": "code",
      "metadata": {
        "id": "2-bxIZ31uK4n"
      },
      "source": [
        "import torch\n",
        "from torchvision import datasets, utils\n",
        "from torch import optim\n",
        "from torchsummary import summary\n",
        "from torch import nn\n",
        "from torch.utils.data import DataLoader\n",
        "import torch.nn.functional as F\n",
        "import matplotlib.pyplot as plt\n",
        "import numpy as np"
      ],
      "execution_count": 25,
      "outputs": []
    },
    {
      "cell_type": "markdown",
      "metadata": {
        "id": "YX2slitsus96"
      },
      "source": [
        "**Utilizando la GPU**"
      ]
    },
    {
      "cell_type": "markdown",
      "metadata": {
        "id": "MKE8nl5PuvtE"
      },
      "source": [
        "PyTorch nos ofrece la posibilidad de entrenar nuestros modelos en una o más GPUs. Google Colab, por otro, lado, nos ofrece el ecceso gratuito a una GPU. Para activarla, seleccionar: Editar -> Configuración del Notebook y elegir la opción GPU para luego guardar. Corramos de nuevo todas las celdas que tenemos hasta el momento."
      ]
    },
    {
      "cell_type": "markdown",
      "metadata": {
        "id": "dr7AgORRvO-q"
      },
      "source": [
        "Ahora revisamos que efectivamente PyTorch detecte la GPU."
      ]
    },
    {
      "cell_type": "code",
      "metadata": {
        "colab": {
          "base_uri": "https://localhost:8080/"
        },
        "id": "X9MmcI_4vLwv",
        "outputId": "6e379ae8-0569-4e57-d35c-36127df4e06a"
      },
      "source": [
        "'''Revisando acceso a GPU'''\n",
        "if torch.cuda.is_available():\n",
        "  device = torch.device(\"cuda:0\")\n",
        "\n",
        "print(device)"
      ],
      "execution_count": 3,
      "outputs": [
        {
          "output_type": "stream",
          "text": [
            "cuda:0\n"
          ],
          "name": "stdout"
        }
      ]
    },
    {
      "cell_type": "markdown",
      "metadata": {
        "id": "ghFSxEYrvuR9"
      },
      "source": [
        "**Cargando Datasets**"
      ]
    },
    {
      "cell_type": "markdown",
      "metadata": {
        "id": "i4DBNdHbvwQc"
      },
      "source": [
        "PyTorch tiene algunos datasets precargados a los que podemos acceder. En este ejemplo, trabajaremos con MNIST, la popular colección de imágenes de caracteres numéricos escritos a mano."
      ]
    },
    {
      "cell_type": "code",
      "metadata": {
        "id": "qu4evGJ1wBa2",
        "colab": {
          "base_uri": "https://localhost:8080/",
          "height": 755,
          "referenced_widgets": [
            "68e9b70e7e474b77a24f57430aaad1a0",
            "abc108ba23d4425185f4e5fbcc040a73",
            "4cc34ad81775452b96a291e7514876f6",
            "8a0f1cd82edf436dbc7ac97f829c65d7",
            "d8857a129526490eb4a7a8e9fecdf7b9",
            "c920f3488fdb471d8cb68e7863efad74",
            "a20fcff2fcb94dacb6ffa6bd85981a17",
            "b442271288814a008e723599b8fc4e91",
            "61ce6c9957044e418684ebf8c907ca4c",
            "c4eb45e4b058462886fa1d1afc603576",
            "d6ed82ac7e834cf395eef8f7abadb6dc",
            "aabced2247564426af190f1c641bb5c7",
            "1a648126452549a0b960faae5bc634f9",
            "072ad7450bca479f88d4cc93bcb7173f",
            "e969ebe1bf9a4fca994c0bfe20ea2813",
            "dae81aade3cc473f9b3656fac15a97a1",
            "1cdff0ec87e94a508857859283aa9b12",
            "d660ce0353984650aa7fe7e02b14a041",
            "19de507bae2443379b727a7a738a5b80",
            "01a9ab1780a64105a7d9805aa3610c06",
            "914604aacf67454da04b1946ef45736b",
            "d0a9f1778f784e239f6481ffd1e82a20",
            "3577a12277f842bba470fc8673e2934b",
            "931571643c024fc3ab31f51f29498130",
            "f8626b63e7fa42db9f7e7e217f273a4d",
            "4fc8b2ea722d4de9b0f0af686bf4ac17",
            "5ee0f2ac49d4428b951bc755d9333918",
            "196534b63b2147068cef085051a4ea3a",
            "f343c817eab24be2af230f115ff526e7",
            "dac9e4d9e5514289b0641b8f36e50ee4",
            "a3247cf6bf7d45b9a877154af9ea99fe",
            "6ea63e43bc5f45dca4537d727281ef59"
          ]
        },
        "outputId": "ab3f0fe1-c199-46ad-b59e-1ce40e7ff32f"
      },
      "source": [
        "'''Descargando la base de datos MNIST'''\n",
        "#Primero definimos a la raíz como carpeta para la descarga\n",
        "path = './data'\n",
        "\n",
        "#Descargamos los datos de entrenamiento\n",
        "train_data = datasets.MNIST(path, train = True, download = True)\n",
        "\n",
        "#Descargamos los datos de prueba\n",
        "val_data = datasets.MNIST(path, train = False, download = True)"
      ],
      "execution_count": 4,
      "outputs": [
        {
          "output_type": "stream",
          "text": [
            "Downloading http://yann.lecun.com/exdb/mnist/train-images-idx3-ubyte.gz\n",
            "Downloading http://yann.lecun.com/exdb/mnist/train-images-idx3-ubyte.gz to ./data/MNIST/raw/train-images-idx3-ubyte.gz\n",
            "Failed to download (trying next):\n",
            "HTTP Error 503: Service Unavailable\n",
            "\n",
            "Downloading https://ossci-datasets.s3.amazonaws.com/mnist/train-images-idx3-ubyte.gz\n",
            "Downloading https://ossci-datasets.s3.amazonaws.com/mnist/train-images-idx3-ubyte.gz to ./data/MNIST/raw/train-images-idx3-ubyte.gz\n"
          ],
          "name": "stdout"
        },
        {
          "output_type": "display_data",
          "data": {
            "application/vnd.jupyter.widget-view+json": {
              "model_id": "68e9b70e7e474b77a24f57430aaad1a0",
              "version_minor": 0,
              "version_major": 2
            },
            "text/plain": [
              "HBox(children=(FloatProgress(value=0.0, max=9912422.0), HTML(value='')))"
            ]
          },
          "metadata": {
            "tags": []
          }
        },
        {
          "output_type": "stream",
          "text": [
            "\n",
            "Extracting ./data/MNIST/raw/train-images-idx3-ubyte.gz to ./data/MNIST/raw\n",
            "\n",
            "Downloading http://yann.lecun.com/exdb/mnist/train-labels-idx1-ubyte.gz\n",
            "Downloading http://yann.lecun.com/exdb/mnist/train-labels-idx1-ubyte.gz to ./data/MNIST/raw/train-labels-idx1-ubyte.gz\n"
          ],
          "name": "stdout"
        },
        {
          "output_type": "display_data",
          "data": {
            "application/vnd.jupyter.widget-view+json": {
              "model_id": "61ce6c9957044e418684ebf8c907ca4c",
              "version_minor": 0,
              "version_major": 2
            },
            "text/plain": [
              "HBox(children=(FloatProgress(value=0.0, max=28881.0), HTML(value='')))"
            ]
          },
          "metadata": {
            "tags": []
          }
        },
        {
          "output_type": "stream",
          "text": [
            "\n",
            "Extracting ./data/MNIST/raw/train-labels-idx1-ubyte.gz to ./data/MNIST/raw\n",
            "\n",
            "Downloading http://yann.lecun.com/exdb/mnist/t10k-images-idx3-ubyte.gz\n",
            "Downloading http://yann.lecun.com/exdb/mnist/t10k-images-idx3-ubyte.gz to ./data/MNIST/raw/t10k-images-idx3-ubyte.gz\n",
            "Failed to download (trying next):\n",
            "HTTP Error 503: Service Unavailable\n",
            "\n",
            "Downloading https://ossci-datasets.s3.amazonaws.com/mnist/t10k-images-idx3-ubyte.gz\n",
            "Downloading https://ossci-datasets.s3.amazonaws.com/mnist/t10k-images-idx3-ubyte.gz to ./data/MNIST/raw/t10k-images-idx3-ubyte.gz\n"
          ],
          "name": "stdout"
        },
        {
          "output_type": "display_data",
          "data": {
            "application/vnd.jupyter.widget-view+json": {
              "model_id": "1cdff0ec87e94a508857859283aa9b12",
              "version_minor": 0,
              "version_major": 2
            },
            "text/plain": [
              "HBox(children=(FloatProgress(value=0.0, max=1648877.0), HTML(value='')))"
            ]
          },
          "metadata": {
            "tags": []
          }
        },
        {
          "output_type": "stream",
          "text": [
            "\n",
            "Extracting ./data/MNIST/raw/t10k-images-idx3-ubyte.gz to ./data/MNIST/raw\n",
            "\n",
            "Downloading http://yann.lecun.com/exdb/mnist/t10k-labels-idx1-ubyte.gz\n",
            "Downloading http://yann.lecun.com/exdb/mnist/t10k-labels-idx1-ubyte.gz to ./data/MNIST/raw/t10k-labels-idx1-ubyte.gz\n"
          ],
          "name": "stdout"
        },
        {
          "output_type": "display_data",
          "data": {
            "application/vnd.jupyter.widget-view+json": {
              "model_id": "f8626b63e7fa42db9f7e7e217f273a4d",
              "version_minor": 0,
              "version_major": 2
            },
            "text/plain": [
              "HBox(children=(FloatProgress(value=0.0, max=4542.0), HTML(value='')))"
            ]
          },
          "metadata": {
            "tags": []
          }
        },
        {
          "output_type": "stream",
          "text": [
            "\n",
            "Extracting ./data/MNIST/raw/t10k-labels-idx1-ubyte.gz to ./data/MNIST/raw\n",
            "\n",
            "Processing...\n",
            "Done!\n"
          ],
          "name": "stdout"
        },
        {
          "output_type": "stream",
          "text": [
            "/usr/local/lib/python3.7/dist-packages/torchvision/datasets/mnist.py:502: UserWarning: The given NumPy array is not writeable, and PyTorch does not support non-writeable tensors. This means you can write to the underlying (supposedly non-writeable) NumPy array using the tensor. You may want to copy the array to protect its data or make it writeable before converting it to a tensor. This type of warning will be suppressed for the rest of this program. (Triggered internally at  /pytorch/torch/csrc/utils/tensor_numpy.cpp:143.)\n",
            "  return torch.from_numpy(parsed.astype(m[2], copy=False)).view(*s)\n"
          ],
          "name": "stderr"
        }
      ]
    },
    {
      "cell_type": "markdown",
      "metadata": {
        "id": "aP6IWZBAxNFU"
      },
      "source": [
        "Ahora separamos las imágenes de las etiquetas. En este caso, queremos clasificar el dígito correspondiente a cada imagen."
      ]
    },
    {
      "cell_type": "code",
      "metadata": {
        "id": "O6utLeFFxMgy"
      },
      "source": [
        "'''Separar imágenes y etiquetas'''\n",
        "X_train, y_train = train_data.data, train_data.targets #En datos de entrenamiento\n",
        "X_test, y_test = val_data.data, val_data.targets #En datos de prueba"
      ],
      "execution_count": 72,
      "outputs": []
    },
    {
      "cell_type": "markdown",
      "metadata": {
        "id": "06ScwnQNxqUj"
      },
      "source": [
        "Analicemos ahora cómo son nuestros datos. Recordemos que en el mundo del **Deep Learning**, solemos trabajar con tensores, es decir, arreglos de mayor dimensionalidad. "
      ]
    },
    {
      "cell_type": "code",
      "metadata": {
        "colab": {
          "base_uri": "https://localhost:8080/"
        },
        "id": "rnS4R27wxp4l",
        "outputId": "debbb212-cf72-4021-a00e-556d9370617a"
      },
      "source": [
        "'''Analizando la forma de los datos'''\n",
        "print('El tamaño del conjunto de entrenamiento es: ', X_train.shape)\n",
        "print('El tamaño del conjunto de prueba es: ', X_test.shape)"
      ],
      "execution_count": 73,
      "outputs": [
        {
          "output_type": "stream",
          "text": [
            "El tamaño del conjunto de entrenamiento es:  torch.Size([60000, 28, 28])\n",
            "El tamaño del conjunto de prueba es:  torch.Size([10000, 28, 28])\n"
          ],
          "name": "stdout"
        }
      ]
    },
    {
      "cell_type": "markdown",
      "metadata": {
        "id": "eTSvBEL9yN9O"
      },
      "source": [
        "Los resultados anteriores significan lo siguiente: \n",
        "\n",
        "*   El conjunto de entrenamiento tiene 60000 imágenes de $28 \\times 28$.\n",
        "*   El conjunto de prueba tiene 10000 imágenes de $28 \\times 28$.\n",
        "\n",
        "Podemos ver también qué forma tienen las etiquetas.\n"
      ]
    },
    {
      "cell_type": "code",
      "metadata": {
        "colab": {
          "base_uri": "https://localhost:8080/"
        },
        "id": "8BQkPcJ5ym94",
        "outputId": "d8a0d416-2dc9-4124-e085-49fcc978b44a"
      },
      "source": [
        "'''Analizando la forma de las etiquetas'''\n",
        "print('El tamaño de las etiquetas de entrenamiento es: ', y_train.shape)\n",
        "print('El tamaño de las etiquetas de prueba es: ', y_test.shape)"
      ],
      "execution_count": 74,
      "outputs": [
        {
          "output_type": "stream",
          "text": [
            "El tamaño de las etiquetas de entrenamiento es:  torch.Size([60000])\n",
            "El tamaño de las etiquetas de prueba es:  torch.Size([10000])\n"
          ],
          "name": "stdout"
        }
      ]
    },
    {
      "cell_type": "markdown",
      "metadata": {
        "id": "zWEf0atWyjU0"
      },
      "source": [
        "En este caso, las etiquetas de entrenamiento son tensor unidemensional de 60000 valores, mientras que las etiquetas de prueba son un tensor unidimensional de 10000 valores."
      ]
    },
    {
      "cell_type": "markdown",
      "metadata": {
        "id": "bEeyeMWzy6xb"
      },
      "source": [
        "**Preprocesamiento**"
      ]
    },
    {
      "cell_type": "markdown",
      "metadata": {
        "id": "Efay8602y9_C"
      },
      "source": [
        "Nuestras imágenes deberán pasar por un proceso que ajuste el formato actual de nuestros datos al formato que PyTorch necesita para operar."
      ]
    },
    {
      "cell_type": "markdown",
      "metadata": {
        "id": "1xuisMtSzRAn"
      },
      "source": [
        "En el estado actual, cada imágen está en blanco y negro, es decir, sólo hay un canal (profundidad igual a $1$). Por ello, los datos tienen la forma $(N, H, W)$, donde:\n",
        "\n",
        "*  $N$: número de imágenes\n",
        "*  $H$: altura de las imágenes (número de filas en la matriz)\n",
        "*  $W$: ancho de las imágenes (número de columnas en la matriz)\n",
        "\n",
        "Es como si todas las imágenes se apilaran para formar un gran *volumen*. "
      ]
    },
    {
      "cell_type": "markdown",
      "metadata": {
        "id": "6Ah3DyGoz3Zh"
      },
      "source": [
        "En PyTorch, sin embargo, el número de canales debe estar explícitamente representado en el tamaño del tensor. Específicamente, la forma de este tensor debe tener el format $(N, C, H, W)$, donde $C$ es el número de canales. En nuestro ejemplo, $C = 1$. Si las imágenes fueran a color (formato RGB), el valor sería $C = 3$. \n",
        "\n",
        "PyTorch nos permite reconfigurar nuestros tensores para ajustarse a este nuevo formato."
      ]
    },
    {
      "cell_type": "code",
      "metadata": {
        "colab": {
          "base_uri": "https://localhost:8080/"
        },
        "id": "zGX_157Ey8jG",
        "outputId": "10ace7b9-5b96-4310-cf3b-6d86ee6ce2db"
      },
      "source": [
        "'''Reconfigurando nuestros datos'''\n",
        "if len(X_train.shape) == 3: #Si el tensor tiene 3 dimensiones (formato original)\n",
        "  X_train = X_train.unsqueeze(1) #Este método separa el número de canales como una dimensión por separado\n",
        "print('La nueva forma del tensor de entrenamiento es: ', X_train.shape)\n",
        "\n",
        "if len(X_test.shape) == 3: #Si el tensor tiene 3 dimensiones (formato original)\n",
        "  print('ok')\n",
        "  X_test = X_test.unsqueeze(1) #Este método separa el número de canales como una dimensión por separado\n",
        "print('La nueva forma del tensor de prueba es: ', X_test.shape)"
      ],
      "execution_count": 75,
      "outputs": [
        {
          "output_type": "stream",
          "text": [
            "La nueva forma del tensor de entrenamiento es:  torch.Size([60000, 1, 28, 28])\n",
            "ok\n",
            "La nueva forma del tensor de prueba es:  torch.Size([10000, 1, 28, 28])\n"
          ],
          "name": "stdout"
        }
      ]
    },
    {
      "cell_type": "markdown",
      "metadata": {
        "id": "TbnCDAFZ1A0B"
      },
      "source": [
        "Con nuestros datos ya en el órden espacial que necesitamos, podemos visualizarlos. Crearemos una función que muestre algunos ejemplos de los datos que tenemos."
      ]
    },
    {
      "cell_type": "code",
      "metadata": {
        "id": "yN4wjbxk1JuB"
      },
      "source": [
        "'''Función de visualización de imágenes'''\n",
        "def show(img):\n",
        "  #Convertimos el tensor a un arreglo de numpy\n",
        "  npimg = img.numpy()\n",
        "\n",
        "  #Convertimos las imágenes al formato (H, W, C)\n",
        "  npimg_tr = np.transpose(npimg, (1,2,0))\n",
        "  plt.imshow(npimg_tr, interpolation = 'nearest')"
      ],
      "execution_count": 9,
      "outputs": []
    },
    {
      "cell_type": "code",
      "metadata": {
        "colab": {
          "base_uri": "https://localhost:8080/",
          "height": 279
        },
        "id": "mZg3u8jp1ju0",
        "outputId": "d106d671-3fac-478a-ef39-c442d3babcc2"
      },
      "source": [
        "#Creaos la matriz de de 40 imágenes, 8 por fila\n",
        "x_grid = utils.make_grid(X_train[:40], nrow = 8, padding = 2) #Creamos la matriz de imágenes\n",
        "print(x_grid.shape)\n",
        "\n",
        "#Llamamos nuestra función para simplemente mostrar el resultado\n",
        "show(x_grid)"
      ],
      "execution_count": 10,
      "outputs": [
        {
          "output_type": "stream",
          "text": [
            "torch.Size([3, 152, 242])\n"
          ],
          "name": "stdout"
        },
        {
          "output_type": "display_data",
          "data": {
            "image/png": "[encoded data removed]",
            "text/plain": [
              "<Figure size 432x288 with 1 Axes>"
            ]
          },
          "metadata": {
            "tags": [],
            "needs_background": "light"
          }
        }
      ]
    },
    {
      "cell_type": "markdown",
      "metadata": {
        "id": "Vms6NphV2Ogd"
      },
      "source": [
        "**Preparando nuestros datos para entrenar**"
      ]
    },
    {
      "cell_type": "markdown",
      "metadata": {
        "id": "8ln8WYT02Q3l"
      },
      "source": [
        "En PyTorch, hay dos objetos importantes, ```dataset``` y ```dataloader```. Estos objetos funcionan como organizadores e **iteradores** para nuestros datos. Al momento de pasar los datos por la CNN, el ```dataloader``` se encargar de iterar sobre ellos para evitar que todos esten abiertos al mismo tiempo. \n",
        "\n"
      ]
    },
    {
      "cell_type": "code",
      "metadata": {
        "colab": {
          "base_uri": "https://localhost:8080/"
        },
        "id": "wAGbFusb2nMe",
        "outputId": "e811e974-7630-4fc7-ad94-224bda4ba24f"
      },
      "source": [
        "'''Convertimos los tensores en objetos dataset'''\n",
        "train_ds = torch.utils.data.TensorDataset(X_train, y_train)\n",
        "test_ds = torch.utils.data.TensorDataset(X_test, y_test)\n",
        "\n",
        "#Observemos como se iteran los datasets\n",
        "for x, y in test_ds:\n",
        "  print(x.shape, y.item())\n",
        "  break"
      ],
      "execution_count": 76,
      "outputs": [
        {
          "output_type": "stream",
          "text": [
            "torch.Size([1, 28, 28]) 7\n"
          ],
          "name": "stdout"
        }
      ]
    },
    {
      "cell_type": "markdown",
      "metadata": {
        "id": "Yezw-MNS3k_1"
      },
      "source": [
        "Ahora, convertiremos nuestros objetos ```dataset``` en objetos ```dataloader```. Es importante notar que el ```dataloader``` nos pide un tamaño de **batch**. Recordemos que en lugar de pasar imagen por imagen a nuestra red, pasaremos grupos de imágenes llamados batches. La función de error se calcular para todo el batch y se promedio en función de su tamaño. "
      ]
    },
    {
      "cell_type": "code",
      "metadata": {
        "colab": {
          "base_uri": "https://localhost:8080/"
        },
        "id": "QFhYQr7f3p3F",
        "outputId": "3de5849b-da54-4284-c3b5-1d07e0b526e0"
      },
      "source": [
        "'''Convertimos datasets en dataloaders'''\n",
        "train_dl = DataLoader(train_ds, batch_size = 8) #Hay que definir un tamaño de batch\n",
        "test_dl = DataLoader(test_ds, batch_size = 8) #Hay que definir un tamaño de batch\n",
        "\n",
        "#Observemos como se iteran los dataloaders\n",
        "for xb, yb in test_dl:\n",
        "  print(xb.shape)\n",
        "  print(yb.shape)\n",
        "  break"
      ],
      "execution_count": 77,
      "outputs": [
        {
          "output_type": "stream",
          "text": [
            "torch.Size([8, 1, 28, 28])\n",
            "torch.Size([8])\n"
          ],
          "name": "stdout"
        }
      ]
    },
    {
      "cell_type": "markdown",
      "metadata": {
        "id": "XRfinOKr4Yeo"
      },
      "source": [
        "**Creando nuestra Red Neuronal Convolucional**"
      ]
    },
    {
      "cell_type": "markdown",
      "metadata": {
        "id": "ws20Lwxq4b3Y"
      },
      "source": [
        "PyTorch tiene la característica de tener una funcionamiento muy similar a Python puro. En este sentido, la creación de una red neuronal implica crear una clase. Estas clases heredan propiedades de la clase ```nn.Module```. La clase debe tener dos partes esenciales: \n",
        "\n",
        "*   ```__init__```: en donde se definen las partes que componen a nuestra CNN. \n",
        "*   ```forward```: el método que define el comportamiento de la CNN, utilizando los componentes disponibles en ```__init__```."
      ]
    },
    {
      "cell_type": "code",
      "metadata": {
        "id": "MDhv-p5p4vzx"
      },
      "source": [
        "'''Creado una CNN'''\n",
        "class Net(nn.Module):\n",
        "  #Método _init_ para inicializar la red\n",
        "  def __init__(self):\n",
        "    super(Net, self).__init__()\n",
        "    #A continuación podemos definir los elementos que tenrá nuestra red\n",
        "    self.conv1 = nn.Conv2d(in_channels = 1, out_channels = 20, kernel_size = 5, stride = 1)\n",
        "    self.relu1 = nn.ReLU(inplace = True)\n",
        "    self.pool1 = nn.MaxPool2d(kernel_size = 2, stride = 2)\n",
        "    self.conv2 = nn.Conv2d(in_channels = 20, out_channels = 50, kernel_size = 5, stride = 1)\n",
        "    self.relu2 = nn.ReLU(inplace = True)\n",
        "    self.pool2 = nn.MaxPool2d(kernel_size = 2, stride = 2)\n",
        "    self.fc1 = nn.Linear(in_features = 4*4*50, out_features = 500)\n",
        "    self.relu3 = nn.ReLU(inplace = True)\n",
        "    self.fc2 = nn.Linear(in_features = 500, out_features = 10)\n",
        "    self.relu4 = nn.ReLU(inplace = True)\n",
        "\n",
        "  #Método forward para definir el paso hacia adelante\n",
        "  def forward(self, x): #La variable x representa a la entrada de la red (un batch)\n",
        "    x = self.conv1(x)\n",
        "    x = self.relu1(x)\n",
        "    x = self.pool1(x)\n",
        "    x = self.conv2(x)\n",
        "    x = self.relu2(x)\n",
        "    x = self.pool2(x)\n",
        "    x = torch.flatten(x, 1) #Convertimos el último mapa de activación en un vector\n",
        "    x = self.fc1(x)\n",
        "    x = self.relu3(x)\n",
        "    x = self.fc2(x)\n",
        "    x = self.relu4(x)\n",
        "    x = F.log_softmax(x, dim = 1) #Función de activación softmax que utilizaremos para clasificación multi-clase\n",
        "\n",
        "    return x"
      ],
      "execution_count": 93,
      "outputs": []
    },
    {
      "cell_type": "markdown",
      "metadata": {
        "id": "f7iNqBz27CM5"
      },
      "source": [
        "Analicemos los elementos que utilizamos:\n",
        "\n",
        "*  ```Conv2d```: se usa para las capas de convolución. Los parámetros que usamos son (número de canales de entrada, número de filtros, tamaño de los kernels que cada filtro, stride) en el órden de lo que aparece en el código.\n",
        "*  ```MaxPool2d```: se usa para el Max Pooling. Los parámetros que usamos son (tamaño del kernel, stride).\n",
        "*  ```Linear```: se usa para las capas de neuronas (fully-connected). Los parámetros que usamos son (número de valores de entrada, número de neuronas en la capa). Es importante notar que la primera capa fully-connected tiene tantos datos de entrada como sea el número de \"píxeles\" en el último mapa de activación. "
      ]
    },
    {
      "cell_type": "code",
      "metadata": {
        "colab": {
          "base_uri": "https://localhost:8080/"
        },
        "id": "bc430Uyz8FL6",
        "outputId": "c79edf17-d7af-45cf-b2a2-144575034cfc"
      },
      "source": [
        "'''Creamos una red a partir de nuestra clase'''\n",
        "model = Net()\n",
        "print(model)"
      ],
      "execution_count": 94,
      "outputs": [
        {
          "output_type": "stream",
          "text": [
            "Net(\n",
            "  (conv1): Conv2d(1, 20, kernel_size=(5, 5), stride=(1, 1))\n",
            "  (relu1): ReLU(inplace=True)\n",
            "  (pool1): MaxPool2d(kernel_size=2, stride=2, padding=0, dilation=1, ceil_mode=False)\n",
            "  (conv2): Conv2d(20, 50, kernel_size=(5, 5), stride=(1, 1))\n",
            "  (relu2): ReLU(inplace=True)\n",
            "  (pool2): MaxPool2d(kernel_size=2, stride=2, padding=0, dilation=1, ceil_mode=False)\n",
            "  (fc1): Linear(in_features=800, out_features=500, bias=True)\n",
            "  (relu3): ReLU(inplace=True)\n",
            "  (fc2): Linear(in_features=500, out_features=10, bias=True)\n",
            "  (relu4): ReLU(inplace=True)\n",
            ")\n"
          ],
          "name": "stdout"
        }
      ]
    },
    {
      "cell_type": "markdown",
      "metadata": {
        "id": "_nj_g6-v9-bQ"
      },
      "source": [
        "Para poder aprovechar la GPU, tenemos que enviar nuestra CNN a la GPU. En estos momentos, todo lo que hemos hecho se encuentra en la CPU de la máquina virtual de Google Colab."
      ]
    },
    {
      "cell_type": "code",
      "metadata": {
        "colab": {
          "base_uri": "https://localhost:8080/"
        },
        "id": "90oMN3j1-Mrq",
        "outputId": "fae9a73f-9e06-4f0f-b5dc-b82914c1987a"
      },
      "source": [
        "'''Moviendo la CNN a la GPU'''\n",
        "model.to(device)"
      ],
      "execution_count": 95,
      "outputs": [
        {
          "output_type": "execute_result",
          "data": {
            "text/plain": [
              "Net(\n",
              "  (conv1): Conv2d(1, 20, kernel_size=(5, 5), stride=(1, 1))\n",
              "  (relu1): ReLU(inplace=True)\n",
              "  (pool1): MaxPool2d(kernel_size=2, stride=2, padding=0, dilation=1, ceil_mode=False)\n",
              "  (conv2): Conv2d(20, 50, kernel_size=(5, 5), stride=(1, 1))\n",
              "  (relu2): ReLU(inplace=True)\n",
              "  (pool2): MaxPool2d(kernel_size=2, stride=2, padding=0, dilation=1, ceil_mode=False)\n",
              "  (fc1): Linear(in_features=800, out_features=500, bias=True)\n",
              "  (relu3): ReLU(inplace=True)\n",
              "  (fc2): Linear(in_features=500, out_features=10, bias=True)\n",
              "  (relu4): ReLU(inplace=True)\n",
              ")"
            ]
          },
          "metadata": {
            "tags": []
          },
          "execution_count": 95
        }
      ]
    },
    {
      "cell_type": "markdown",
      "metadata": {
        "id": "agHc08jO-PLP"
      },
      "source": [
        "Una vez en la GPU, podemos usar la herramienta ```summary``` para desplegar información valiosa sobre nuestra red, como los tamaños de salida de cada capa, y el número de parámetros totales de nuestra red."
      ]
    },
    {
      "cell_type": "code",
      "metadata": {
        "colab": {
          "base_uri": "https://localhost:8080/"
        },
        "id": "SEwenHx9-aax",
        "outputId": "433ae2b1-0047-48fc-b916-b2d74905fe05"
      },
      "source": [
        "summary(model, input_size = (1, 28, 28))"
      ],
      "execution_count": 96,
      "outputs": [
        {
          "output_type": "stream",
          "text": [
            "----------------------------------------------------------------\n",
            "        Layer (type)               Output Shape         Param #\n",
            "================================================================\n",
            "            Conv2d-1           [-1, 20, 24, 24]             520\n",
            "              ReLU-2           [-1, 20, 24, 24]               0\n",
            "         MaxPool2d-3           [-1, 20, 12, 12]               0\n",
            "            Conv2d-4             [-1, 50, 8, 8]          25,050\n",
            "              ReLU-5             [-1, 50, 8, 8]               0\n",
            "         MaxPool2d-6             [-1, 50, 4, 4]               0\n",
            "            Linear-7                  [-1, 500]         400,500\n",
            "              ReLU-8                  [-1, 500]               0\n",
            "            Linear-9                   [-1, 10]           5,010\n",
            "             ReLU-10                   [-1, 10]               0\n",
            "================================================================\n",
            "Total params: 431,080\n",
            "Trainable params: 431,080\n",
            "Non-trainable params: 0\n",
            "----------------------------------------------------------------\n",
            "Input size (MB): 0.00\n",
            "Forward/backward pass size (MB): 0.26\n",
            "Params size (MB): 1.64\n",
            "Estimated Total Size (MB): 1.91\n",
            "----------------------------------------------------------------\n"
          ],
          "name": "stdout"
        }
      ]
    },
    {
      "cell_type": "markdown",
      "metadata": {
        "id": "fJp2TNR8_Va5"
      },
      "source": [
        "**Entrenamiento**"
      ]
    },
    {
      "cell_type": "markdown",
      "metadata": {
        "id": "WdhGNs2N_Xq7"
      },
      "source": [
        "Ya que la CNN está lista, podemos comenzar a definir las características de nuestro entrenamiento."
      ]
    },
    {
      "cell_type": "code",
      "metadata": {
        "id": "yy0crGQB_voU"
      },
      "source": [
        "'''Definiendo parámetros de entrenamiento'''\n",
        "#Función de pérdida (lo que queremos minimizar)\n",
        "loss_func = nn.NLLLoss(reduction = \"sum\")\n",
        "\n",
        "#Optimizador (cómo vamos a minimizar)\n",
        "opt = optim.Adam(model.parameters(), lr = 1e-4) #Aquí definimos el coeficiente de aprendizaje (learning rate)\n",
        "\n",
        "#Número de épocas\n",
        "num_epochs = 10"
      ],
      "execution_count": 99,
      "outputs": []
    },
    {
      "cell_type": "markdown",
      "metadata": {
        "id": "QNnYepapANhV"
      },
      "source": [
        "Con estos hiperparámetros ya definidos,podemos escribir nuestro **loop** de entrenamiento."
      ]
    },
    {
      "cell_type": "code",
      "metadata": {
        "id": "TX4jgtfAAU00",
        "colab": {
          "base_uri": "https://localhost:8080/"
        },
        "outputId": "99134d05-abc7-4191-cdcb-c52a92840b2f"
      },
      "source": [
        "'''Entrenamiento de nuestra CNN'''\n",
        "#Loop principal\n",
        "for epoch in range(num_epochs):\n",
        "  '''Entrenamiento'''\n",
        "  #Ponemos a nuestro modelo en modo entrenamiento\n",
        "  model.train()\n",
        "\n",
        "  #Inicializamos función de pérdida y accuracy de entrenamiento\n",
        "  loss_t = 0.0\n",
        "  acc_t = 0.0\n",
        "\n",
        "  #Obtenemos el número de datos de entrenamiento\n",
        "  len_data = len(train_dl.dataset)\n",
        "\n",
        "  #Iteramos sobre los batches de entrenamiento (train_dl)\n",
        "  for xb, yb in train_dl:\n",
        "    #Movemos el batch y las etiquetas a la GPU\n",
        "    xb = xb.type(torch.float).to(device)\n",
        "    yb = yb.to(device)\n",
        "\n",
        "    #Obtenemos la predicción de la red\n",
        "    yb_h = model(xb)\n",
        "\n",
        "    #Calculamos valor de la función de pérdida\n",
        "    loss_b = loss_func(yb_h, yb)\n",
        "\n",
        "    #Optimizamos (paso hacia atrás)\n",
        "    loss_b.backward()\n",
        "    opt.step()\n",
        "    opt.zero_grad()\n",
        "\n",
        "    #Obtenemos el accuracy de este batch\n",
        "    pred = yb_h.argmax(dim = 1, keepdim = True) #Obtebemos las probabilidades máximas de cada batch\n",
        "    acc_b = pred.eq(yb.view_as(pred)).sum().item() #Comparamos las predicciones con las etiquetas\n",
        "\n",
        "    #Actualizamos la pérdida y accuracy totales de entrenamiento\n",
        "    loss_t += loss_b.item()\n",
        "    if acc_b is not None:\n",
        "        acc_t += acc_b\n",
        "  \n",
        "  #Promediamos la pérdida y accuracy de entrenamiento\n",
        "  loss_t /= len_data\n",
        "  acc_t /= len_data\n",
        "\n",
        "  '''Validación'''\n",
        "  #Inicializamos función de pérdida y accuracy de prueba\n",
        "  loss_v = 0.0\n",
        "  acc_v = 0.0\n",
        "\n",
        "  #Obtenemos el número de datos de prueba\n",
        "  len_data = len(test_dl.dataset)\n",
        "\n",
        "  #Ponemos a nuestro modelo en modo evaluación\n",
        "  model.eval()\n",
        "\n",
        "  #Especificamos que para utilizar los datos de prueba, PyTorch no calcule ningún gradiente\n",
        "  with torch.no_grad(): \n",
        "    #Iteramos sobre los batches de prueba (test_dl)\n",
        "    for xb, yb in test_dl:\n",
        "      #Movemos el batch y las etiquetas a la GPU\n",
        "      xb = xb.type(torch.float).to(device)\n",
        "      yb = yb.to(device)\n",
        "\n",
        "      #Obtenemos la predicción de la red\n",
        "      yb_h = model(xb)\n",
        "\n",
        "      #Calculamos valor de la función de pérdida\n",
        "      loss_b = loss_func(yb_h, yb)\n",
        "\n",
        "      #Obtenemos el accuracy de este batch\n",
        "      pred = yb_h.argmax(dim = 1, keepdim = True) #Obtebemos las probabilidades máximas de cada batch\n",
        "      acc_b = pred.eq(yb.view_as(pred)).sum().item() #Comparamos las predicciones con las etiquetas\n",
        "\n",
        "      #Actualizamos la pérdida y accuracy totales de prueba\n",
        "      loss_v += loss_b.item()\n",
        "      if acc_b is not None:\n",
        "        acc_v += acc_b\n",
        "\n",
        "    #Promediamos la pérdida y accuracy de entrenamiento\n",
        "    loss_v /= len_data\n",
        "    acc_v /= len_data\n",
        "\n",
        "    print('Época: %d, Pérdida de entrenamiento: %.5f, Pérdidad de prueba: %.5f, Accuracy de entrenamiento: %.4f, Accuracy de prueba: %.4f'\n",
        "          %(epoch, loss_t, loss_v, acc_t, acc_v))"
      ],
      "execution_count": 100,
      "outputs": [
        {
          "output_type": "stream",
          "text": [
            "Época: 0, Pérdida de entrenamiento: 0.24005, Pérdidad de prueba: 0.26935, Accuracy de entrenamiento: 0.8979, Accuracy de prueba: 0.8940\n",
            "Época: 1, Pérdida de entrenamiento: 0.23947, Pérdidad de prueba: 0.27340, Accuracy de entrenamiento: 0.8981, Accuracy de prueba: 0.8951\n",
            "Época: 2, Pérdida de entrenamiento: 0.23681, Pérdidad de prueba: 0.26711, Accuracy de entrenamiento: 0.8985, Accuracy de prueba: 0.8952\n",
            "Época: 3, Pérdida de entrenamiento: 0.23736, Pérdidad de prueba: 0.27284, Accuracy de entrenamiento: 0.8987, Accuracy de prueba: 0.8944\n",
            "Época: 4, Pérdida de entrenamiento: 0.23514, Pérdidad de prueba: 0.26773, Accuracy de entrenamiento: 0.8992, Accuracy de prueba: 0.8967\n",
            "Época: 5, Pérdida de entrenamiento: 0.23457, Pérdidad de prueba: 0.27116, Accuracy de entrenamiento: 0.8993, Accuracy de prueba: 0.8958\n",
            "Época: 6, Pérdida de entrenamiento: 0.23425, Pérdidad de prueba: 0.27286, Accuracy de entrenamiento: 0.8996, Accuracy de prueba: 0.8958\n",
            "Época: 7, Pérdida de entrenamiento: 0.23408, Pérdidad de prueba: 0.26691, Accuracy de entrenamiento: 0.8996, Accuracy de prueba: 0.8976\n",
            "Época: 8, Pérdida de entrenamiento: 0.23329, Pérdidad de prueba: 0.27602, Accuracy de entrenamiento: 0.8998, Accuracy de prueba: 0.8951\n",
            "Época: 9, Pérdida de entrenamiento: 0.23316, Pérdidad de prueba: 0.27655, Accuracy de entrenamiento: 0.8998, Accuracy de prueba: 0.8948\n"
          ],
          "name": "stdout"
        }
      ]
    }
  ]
}