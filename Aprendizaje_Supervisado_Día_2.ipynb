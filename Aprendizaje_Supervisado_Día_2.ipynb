{
  "nbformat": 4,
  "nbformat_minor": 0,
  "metadata": {
    "colab": {
      "name": "Aprendizaje Supervisado - Día 2.ipynb",
      "provenance": []
    },
    "kernelspec": {
      "name": "python3",
      "display_name": "Python 3"
    },
    "language_info": {
      "name": "python"
    }
  },
  "cells": [
    {
      "cell_type": "markdown",
      "metadata": {
        "id": "AWLqodHdYr2U"
      },
      "source": [
        "# **Taller de Aprendizaje Automático en Python - Día 2**\n",
        "\n",
        "## **Autores:**\n",
        "\n",
        "\n",
        "\n",
        "*   José Clemente Hernández Hernández\n",
        "*   Gustavo Adolfo Vargas Hákim\n"
      ]
    },
    {
      "cell_type": "markdown",
      "metadata": {
        "id": "nOiiFqW-YxDp"
      },
      "source": [
        "# **Algoritmo de K Vecinos más Cercanos**"
      ]
    },
    {
      "cell_type": "markdown",
      "metadata": {
        "id": "ZjOCzNcyZFTZ"
      },
      "source": [
        "Utilizaremos la librería **Scikit-Learn** para implementar un clasificador utilizando el algoritmo K Vecinos más Cercanos."
      ]
    },
    {
      "cell_type": "code",
      "metadata": {
        "id": "jMG7xsd9YnV5"
      },
      "source": [
        "import pandas as pd\n",
        "from sklearn.model_selection import train_test_split #Para separar nuestros datos en entrenamiento y prueba\n",
        "from sklearn import metrics #Métricas de evaluación\n",
        "from sklearn.neighbors import KNeighborsClassifier # La clase del KNN"
      ],
      "execution_count": 2,
      "outputs": []
    },
    {
      "cell_type": "markdown",
      "metadata": {
        "id": "q0iwKKZn5iSA"
      },
      "source": [
        "Nuevamente, la base de datos de ejemplo será IRIS"
      ]
    },
    {
      "cell_type": "code",
      "metadata": {
        "id": "r1C1n_Kn4-q2"
      },
      "source": [
        "data = pd.read_csv(\"https://raw.githubusercontent.com/GustavoVargasHakim/Machine-Learning-en-Python/main/iris.csv\")\n",
        "X = data.drop(columns = [\"variety\"])\n",
        "y = data[\"variety\"]"
      ],
      "execution_count": null,
      "outputs": []
    },
    {
      "cell_type": "markdown",
      "metadata": {
        "id": "Ov8Bd7yn6Pz4"
      },
      "source": [
        "Sabemos que los datos pertenecen a una distribución continua"
      ]
    },
    {
      "cell_type": "code",
      "metadata": {
        "colab": {
          "base_uri": "https://localhost:8080/",
          "height": 419
        },
        "id": "M5LWfLRP6TUN",
        "outputId": "4f116cf6-80bc-4161-a8c8-46633eff96ee"
      },
      "source": [
        "X"
      ],
      "execution_count": null,
      "outputs": [
        {
          "output_type": "execute_result",
          "data": {
            "text/html": [
              "<div>\n",
              "<style scoped>\n",
              "    .dataframe tbody tr th:only-of-type {\n",
              "        vertical-align: middle;\n",
              "    }\n",
              "\n",
              "    .dataframe tbody tr th {\n",
              "        vertical-align: top;\n",
              "    }\n",
              "\n",
              "    .dataframe thead th {\n",
              "        text-align: right;\n",
              "    }\n",
              "</style>\n",
              "<table border=\"1\" class=\"dataframe\">\n",
              "  <thead>\n",
              "    <tr style=\"text-align: right;\">\n",
              "      <th></th>\n",
              "      <th>sepal.length</th>\n",
              "      <th>sepal.width</th>\n",
              "      <th>petal.length</th>\n",
              "      <th>petal.width</th>\n",
              "    </tr>\n",
              "  </thead>\n",
              "  <tbody>\n",
              "    <tr>\n",
              "      <th>0</th>\n",
              "      <td>5.1</td>\n",
              "      <td>3.5</td>\n",
              "      <td>1.4</td>\n",
              "      <td>0.2</td>\n",
              "    </tr>\n",
              "    <tr>\n",
              "      <th>1</th>\n",
              "      <td>4.9</td>\n",
              "      <td>3.0</td>\n",
              "      <td>1.4</td>\n",
              "      <td>0.2</td>\n",
              "    </tr>\n",
              "    <tr>\n",
              "      <th>2</th>\n",
              "      <td>4.7</td>\n",
              "      <td>3.2</td>\n",
              "      <td>1.3</td>\n",
              "      <td>0.2</td>\n",
              "    </tr>\n",
              "    <tr>\n",
              "      <th>3</th>\n",
              "      <td>4.6</td>\n",
              "      <td>3.1</td>\n",
              "      <td>1.5</td>\n",
              "      <td>0.2</td>\n",
              "    </tr>\n",
              "    <tr>\n",
              "      <th>4</th>\n",
              "      <td>5.0</td>\n",
              "      <td>3.6</td>\n",
              "      <td>1.4</td>\n",
              "      <td>0.2</td>\n",
              "    </tr>\n",
              "    <tr>\n",
              "      <th>...</th>\n",
              "      <td>...</td>\n",
              "      <td>...</td>\n",
              "      <td>...</td>\n",
              "      <td>...</td>\n",
              "    </tr>\n",
              "    <tr>\n",
              "      <th>145</th>\n",
              "      <td>6.7</td>\n",
              "      <td>3.0</td>\n",
              "      <td>5.2</td>\n",
              "      <td>2.3</td>\n",
              "    </tr>\n",
              "    <tr>\n",
              "      <th>146</th>\n",
              "      <td>6.3</td>\n",
              "      <td>2.5</td>\n",
              "      <td>5.0</td>\n",
              "      <td>1.9</td>\n",
              "    </tr>\n",
              "    <tr>\n",
              "      <th>147</th>\n",
              "      <td>6.5</td>\n",
              "      <td>3.0</td>\n",
              "      <td>5.2</td>\n",
              "      <td>2.0</td>\n",
              "    </tr>\n",
              "    <tr>\n",
              "      <th>148</th>\n",
              "      <td>6.2</td>\n",
              "      <td>3.4</td>\n",
              "      <td>5.4</td>\n",
              "      <td>2.3</td>\n",
              "    </tr>\n",
              "    <tr>\n",
              "      <th>149</th>\n",
              "      <td>5.9</td>\n",
              "      <td>3.0</td>\n",
              "      <td>5.1</td>\n",
              "      <td>1.8</td>\n",
              "    </tr>\n",
              "  </tbody>\n",
              "</table>\n",
              "<p>150 rows × 4 columns</p>\n",
              "</div>"
            ],
            "text/plain": [
              "     sepal.length  sepal.width  petal.length  petal.width\n",
              "0             5.1          3.5           1.4          0.2\n",
              "1             4.9          3.0           1.4          0.2\n",
              "2             4.7          3.2           1.3          0.2\n",
              "3             4.6          3.1           1.5          0.2\n",
              "4             5.0          3.6           1.4          0.2\n",
              "..            ...          ...           ...          ...\n",
              "145           6.7          3.0           5.2          2.3\n",
              "146           6.3          2.5           5.0          1.9\n",
              "147           6.5          3.0           5.2          2.0\n",
              "148           6.2          3.4           5.4          2.3\n",
              "149           5.9          3.0           5.1          1.8\n",
              "\n",
              "[150 rows x 4 columns]"
            ]
          },
          "metadata": {
            "tags": []
          },
          "execution_count": 6
        }
      ]
    },
    {
      "cell_type": "markdown",
      "metadata": {
        "id": "eh66M6R-5l6Z"
      },
      "source": [
        "En este caso, entrenando con todo el conjunto de datos"
      ]
    },
    {
      "cell_type": "code",
      "metadata": {
        "colab": {
          "base_uri": "https://localhost:8080/"
        },
        "id": "u9-f4KzA49Bh",
        "outputId": "59f874f2-cdc4-4335-b487-d38b3abe7b49"
      },
      "source": [
        "neigh = KNeighborsClassifier(n_neighbors=3)\n",
        "neigh.fit(X, y)"
      ],
      "execution_count": null,
      "outputs": [
        {
          "output_type": "execute_result",
          "data": {
            "text/plain": [
              "KNeighborsClassifier(algorithm='auto', leaf_size=30, metric='minkowski',\n",
              "                     metric_params=None, n_jobs=None, n_neighbors=3, p=2,\n",
              "                     weights='uniform')"
            ]
          },
          "metadata": {
            "tags": []
          },
          "execution_count": 4
        }
      ]
    },
    {
      "cell_type": "markdown",
      "metadata": {
        "id": "3KjAcl2A5p7O"
      },
      "source": [
        "Y probando, de igual manera, con todas las instancias"
      ]
    },
    {
      "cell_type": "code",
      "metadata": {
        "colab": {
          "base_uri": "https://localhost:8080/"
        },
        "id": "FW1R96ho5MUi",
        "outputId": "c16f75d6-42b2-4f87-f215-3c596c7c7703"
      },
      "source": [
        "metrics.accuracy_score(y, neigh.predict(X))"
      ],
      "execution_count": null,
      "outputs": [
        {
          "output_type": "execute_result",
          "data": {
            "text/plain": [
              "0.96"
            ]
          },
          "metadata": {
            "tags": []
          },
          "execution_count": 5
        }
      ]
    },
    {
      "cell_type": "markdown",
      "metadata": {
        "id": "myZXirlHY3Ue"
      },
      "source": [
        "# **Algoritmo Ingenuo Bayesiano**"
      ]
    },
    {
      "cell_type": "markdown",
      "metadata": {
        "id": "iGbhvAVOZHVd"
      },
      "source": [
        "Utilizaremos la librería **Scikit-Learn** para implementar un clasificador utilizando el algoritmo Ingenuo Bayesiano."
      ]
    },
    {
      "cell_type": "code",
      "metadata": {
        "id": "uTVeq5STZHqA"
      },
      "source": [
        "import pandas as pd\n",
        "import matplotlib.pyplot as plt  \n",
        "from sklearn.model_selection import train_test_split #Para separar nuestros datos en entrenamiento y prueba\n",
        "from sklearn.naive_bayes import GaussianNB #La clase del clasificador Naïve Bayes\n",
        "from sklearn import metrics #Métricas de evaluación\n",
        "from sklearn.model_selection import cross_val_score #Validación cruzada\n",
        "from sklearn.metrics import confusion_matrix #Validación cruzada"
      ],
      "execution_count": null,
      "outputs": []
    },
    {
      "cell_type": "markdown",
      "metadata": {
        "id": "khjOvdrAeVew"
      },
      "source": [
        "Cargamos nuestra base de datos. Se trata de una colección de vinos, en la que buscamos clasificar tres tipos de bebidas según sus características."
      ]
    },
    {
      "cell_type": "code",
      "metadata": {
        "id": "B4NLSW18ecOw"
      },
      "source": [
        "'''Leyendo datos'''\n",
        "wine = pd.read_csv('https://raw.githubusercontent.com/GustavoVargasHakim/Machine-Learning-en-Python/main/wine.data')"
      ],
      "execution_count": null,
      "outputs": []
    },
    {
      "cell_type": "code",
      "metadata": {
        "colab": {
          "base_uri": "https://localhost:8080/",
          "height": 202
        },
        "id": "63MCDTede4Oh",
        "outputId": "1b4cccd7-6ef5-4466-fc89-f1568e95c23d"
      },
      "source": [
        "'''Explorando datos'''\n",
        "wine.head()"
      ],
      "execution_count": null,
      "outputs": [
        {
          "output_type": "execute_result",
          "data": {
            "text/html": [
              "<div>\n",
              "<style scoped>\n",
              "    .dataframe tbody tr th:only-of-type {\n",
              "        vertical-align: middle;\n",
              "    }\n",
              "\n",
              "    .dataframe tbody tr th {\n",
              "        vertical-align: top;\n",
              "    }\n",
              "\n",
              "    .dataframe thead th {\n",
              "        text-align: right;\n",
              "    }\n",
              "</style>\n",
              "<table border=\"1\" class=\"dataframe\">\n",
              "  <thead>\n",
              "    <tr style=\"text-align: right;\">\n",
              "      <th></th>\n",
              "      <th>1</th>\n",
              "      <th>14.23</th>\n",
              "      <th>1.71</th>\n",
              "      <th>2.43</th>\n",
              "      <th>15.6</th>\n",
              "      <th>127</th>\n",
              "      <th>2.8</th>\n",
              "      <th>3.06</th>\n",
              "      <th>.28</th>\n",
              "      <th>2.29</th>\n",
              "      <th>5.64</th>\n",
              "      <th>1.04</th>\n",
              "      <th>3.92</th>\n",
              "      <th>1065</th>\n",
              "    </tr>\n",
              "  </thead>\n",
              "  <tbody>\n",
              "    <tr>\n",
              "      <th>0</th>\n",
              "      <td>1</td>\n",
              "      <td>13.20</td>\n",
              "      <td>1.78</td>\n",
              "      <td>2.14</td>\n",
              "      <td>11.2</td>\n",
              "      <td>100</td>\n",
              "      <td>2.65</td>\n",
              "      <td>2.76</td>\n",
              "      <td>0.26</td>\n",
              "      <td>1.28</td>\n",
              "      <td>4.38</td>\n",
              "      <td>1.05</td>\n",
              "      <td>3.40</td>\n",
              "      <td>1050</td>\n",
              "    </tr>\n",
              "    <tr>\n",
              "      <th>1</th>\n",
              "      <td>1</td>\n",
              "      <td>13.16</td>\n",
              "      <td>2.36</td>\n",
              "      <td>2.67</td>\n",
              "      <td>18.6</td>\n",
              "      <td>101</td>\n",
              "      <td>2.80</td>\n",
              "      <td>3.24</td>\n",
              "      <td>0.30</td>\n",
              "      <td>2.81</td>\n",
              "      <td>5.68</td>\n",
              "      <td>1.03</td>\n",
              "      <td>3.17</td>\n",
              "      <td>1185</td>\n",
              "    </tr>\n",
              "    <tr>\n",
              "      <th>2</th>\n",
              "      <td>1</td>\n",
              "      <td>14.37</td>\n",
              "      <td>1.95</td>\n",
              "      <td>2.50</td>\n",
              "      <td>16.8</td>\n",
              "      <td>113</td>\n",
              "      <td>3.85</td>\n",
              "      <td>3.49</td>\n",
              "      <td>0.24</td>\n",
              "      <td>2.18</td>\n",
              "      <td>7.80</td>\n",
              "      <td>0.86</td>\n",
              "      <td>3.45</td>\n",
              "      <td>1480</td>\n",
              "    </tr>\n",
              "    <tr>\n",
              "      <th>3</th>\n",
              "      <td>1</td>\n",
              "      <td>13.24</td>\n",
              "      <td>2.59</td>\n",
              "      <td>2.87</td>\n",
              "      <td>21.0</td>\n",
              "      <td>118</td>\n",
              "      <td>2.80</td>\n",
              "      <td>2.69</td>\n",
              "      <td>0.39</td>\n",
              "      <td>1.82</td>\n",
              "      <td>4.32</td>\n",
              "      <td>1.04</td>\n",
              "      <td>2.93</td>\n",
              "      <td>735</td>\n",
              "    </tr>\n",
              "    <tr>\n",
              "      <th>4</th>\n",
              "      <td>1</td>\n",
              "      <td>14.20</td>\n",
              "      <td>1.76</td>\n",
              "      <td>2.45</td>\n",
              "      <td>15.2</td>\n",
              "      <td>112</td>\n",
              "      <td>3.27</td>\n",
              "      <td>3.39</td>\n",
              "      <td>0.34</td>\n",
              "      <td>1.97</td>\n",
              "      <td>6.75</td>\n",
              "      <td>1.05</td>\n",
              "      <td>2.85</td>\n",
              "      <td>1450</td>\n",
              "    </tr>\n",
              "  </tbody>\n",
              "</table>\n",
              "</div>"
            ],
            "text/plain": [
              "   1  14.23  1.71  2.43  15.6  127  ...   .28  2.29  5.64  1.04  3.92  1065\n",
              "0  1  13.20  1.78  2.14  11.2  100  ...  0.26  1.28  4.38  1.05  3.40  1050\n",
              "1  1  13.16  2.36  2.67  18.6  101  ...  0.30  2.81  5.68  1.03  3.17  1185\n",
              "2  1  14.37  1.95  2.50  16.8  113  ...  0.24  2.18  7.80  0.86  3.45  1480\n",
              "3  1  13.24  2.59  2.87  21.0  118  ...  0.39  1.82  4.32  1.04  2.93   735\n",
              "4  1  14.20  1.76  2.45  15.2  112  ...  0.34  1.97  6.75  1.05  2.85  1450\n",
              "\n",
              "[5 rows x 14 columns]"
            ]
          },
          "metadata": {
            "tags": []
          },
          "execution_count": 6
        }
      ]
    },
    {
      "cell_type": "code",
      "metadata": {
        "id": "iLmHrPJ0e_Hm"
      },
      "source": [
        "'''Separando la clase de las características'''\n",
        "X = wine.drop(columns = ['1'])\n",
        "y = wine['1']"
      ],
      "execution_count": null,
      "outputs": []
    },
    {
      "cell_type": "code",
      "metadata": {
        "id": "oexAt2ftfLB7"
      },
      "source": [
        "'''Separemos nuestros datos en entrenamiento y prueba'''\n",
        "#Separaremos nuestros datos en un 33% para prueba y 67% para entrenamiento de forma aleatoria\n",
        "X_train, X_test, y_train, y_test = train_test_split(X, y, test_size = 0.33, random_state = 5)"
      ],
      "execution_count": null,
      "outputs": []
    },
    {
      "cell_type": "markdown",
      "metadata": {
        "id": "5ln4819Jk5ph"
      },
      "source": [
        "Preparamos ahora a nuestro clasificador para comenzar a entrenar."
      ]
    },
    {
      "cell_type": "code",
      "metadata": {
        "colab": {
          "base_uri": "https://localhost:8080/"
        },
        "id": "nEqMm5M6k46d",
        "outputId": "98cf8b25-b946-40c8-d888-15a45c6da38b"
      },
      "source": [
        "'''Entrenando clasificador'''\n",
        "nb = GaussianNB() #Llamando una instancia de la clase del clasificador\n",
        "\n",
        "nb.fit(X_train, y_train) #Entrenamiento"
      ],
      "execution_count": null,
      "outputs": [
        {
          "output_type": "execute_result",
          "data": {
            "text/plain": [
              "GaussianNB(priors=None, var_smoothing=1e-09)"
            ]
          },
          "metadata": {
            "tags": []
          },
          "execution_count": 10
        }
      ]
    },
    {
      "cell_type": "markdown",
      "metadata": {
        "id": "OjgfXwawlU7V"
      },
      "source": [
        "Podemos ahora medir el **accuracy** de nuestro modelo."
      ]
    },
    {
      "cell_type": "code",
      "metadata": {
        "colab": {
          "base_uri": "https://localhost:8080/"
        },
        "id": "8kDVw3phlYd5",
        "outputId": "5fd50c72-fb83-4144-bde1-e9c2fe04f7dd"
      },
      "source": [
        "'''Obteniendo el accuracy en los datos de entrenamiento y prueba'''\n",
        "y_train_pred = nb.predict(X_train) #Predicciones de los datos de entrenamiento\n",
        "y_test_pred = nb.predict(X_test) #Predicciones de los datos de prueba\n",
        "print('Accuracy de entrenamiento: ', metrics.accuracy_score(y_train, y_train_pred))\n",
        "print('Accuracy de prueba: ', metrics.accuracy_score(y_test, y_test_pred))"
      ],
      "execution_count": null,
      "outputs": [
        {
          "output_type": "stream",
          "text": [
            "Accuracy de entrenamiento:  0.9830508474576272\n",
            "Accuracy de prueba:  0.9830508474576272\n"
          ],
          "name": "stdout"
        }
      ]
    },
    {
      "cell_type": "markdown",
      "metadata": {
        "id": "ptkWDO-Qnu9L"
      },
      "source": [
        "Apliquemos ahora la validación cruzada con 5 **folds**."
      ]
    },
    {
      "cell_type": "code",
      "metadata": {
        "colab": {
          "base_uri": "https://localhost:8080/"
        },
        "id": "Uh-v2A0vn7Hk",
        "outputId": "c06c3e08-1b86-4be4-9f31-1019941f5f8d"
      },
      "source": [
        "'''Aplicando validación cruzada'''\n",
        "scores = cross_val_score(nb, X, y, cv = 5)\n",
        "print('Los resultados de accuracy para cada fold: ', scores)"
      ],
      "execution_count": null,
      "outputs": [
        {
          "output_type": "stream",
          "text": [
            "Los resultados de accuracy para cada fold:  [0.94444444 0.97222222 0.97142857 0.94285714 1.        ]\n"
          ],
          "name": "stdout"
        }
      ]
    },
    {
      "cell_type": "markdown",
      "metadata": {
        "id": "O0kIUNYgtBVb"
      },
      "source": [
        "También podemos crear una matriz de confusión automáticamente. "
      ]
    },
    {
      "cell_type": "code",
      "metadata": {
        "colab": {
          "base_uri": "https://localhost:8080/"
        },
        "id": "-HQKzAHjtGVZ",
        "outputId": "c25320d8-b254-4a10-a33d-cefc5a60282d"
      },
      "source": [
        "'''Creando matriz de confusión'''\n",
        "confusion_matrix(y_test, y_test_pred)"
      ],
      "execution_count": null,
      "outputs": [
        {
          "output_type": "execute_result",
          "data": {
            "text/plain": [
              "array([[23,  1,  0],\n",
              "       [ 0, 20,  0],\n",
              "       [ 0,  0, 15]])"
            ]
          },
          "metadata": {
            "tags": []
          },
          "execution_count": 21
        }
      ]
    },
    {
      "cell_type": "markdown",
      "metadata": {
        "id": "xJliaUiOtlBi"
      },
      "source": [
        "Podemos darle un mejor aspecto a la matriz de confusión, si utilizamos también **matplotlib**"
      ]
    },
    {
      "cell_type": "code",
      "metadata": {
        "colab": {
          "base_uri": "https://localhost:8080/",
          "height": 279
        },
        "id": "BUkA-rZrtkdI",
        "outputId": "43a4800e-3c50-4c33-c71e-869cc3dd82b2"
      },
      "source": [
        "'''Graficando matriz de confusión'''\n",
        "from sklearn.metrics import plot_confusion_matrix #Importando graficador\n",
        "\n",
        "plot_confusion_matrix(nb, X_test, y_test) \n",
        "plt.show()"
      ],
      "execution_count": null,
      "outputs": [
        {
          "output_type": "display_data",
          "data": {
            "image/png": "[encoded data removed]",
            "text/plain": [
              "<Figure size 432x288 with 2 Axes>"
            ]
          },
          "metadata": {
            "tags": [],
            "needs_background": "light"
          }
        }
      ]
    },
    {
      "cell_type": "markdown",
      "metadata": {
        "id": "WnMH5Qu5Y_oV"
      },
      "source": [
        "# **Algoritmo de Árbol de Decisión**"
      ]
    },
    {
      "cell_type": "code",
      "metadata": {
        "id": "1WXwlbNwwgQO"
      },
      "source": [
        "import warnings\n",
        "warnings.simplefilter(action='ignore', category=FutureWarning)"
      ],
      "execution_count": 113,
      "outputs": []
    },
    {
      "cell_type": "code",
      "metadata": {
        "id": "TTTeH3t9ZKSb",
        "colab": {
          "base_uri": "https://localhost:8080/"
        },
        "outputId": "313a542e-e77b-4845-ce43-42b33ea3b20b"
      },
      "source": [
        "pip install decision-tree-id3"
      ],
      "execution_count": 26,
      "outputs": [
        {
          "output_type": "stream",
          "text": [
            "Collecting decision-tree-id3\n",
            "  Downloading https://files.pythonhosted.org/packages/53/60/9b51eb3b5096afa1fce2718f56c99f8e183162dae114c56592112ab54329/decision-tree-id3-0.1.2.tar.gz\n",
            "Collecting nose>=1.1.2\n",
            "\u001b[?25l  Downloading https://files.pythonhosted.org/packages/15/d8/dd071918c040f50fa1cf80da16423af51ff8ce4a0f2399b7bf8de45ac3d9/nose-1.3.7-py3-none-any.whl (154kB)\n",
            "\u001b[K     |████████████████████████████████| 163kB 2.9MB/s \n",
            "\u001b[?25hRequirement already satisfied: scikit-learn>=0.17 in /usr/local/lib/python3.7/dist-packages (from decision-tree-id3) (0.22.2.post1)\n",
            "Requirement already satisfied: numpy>=1.6.1 in /usr/local/lib/python3.7/dist-packages (from decision-tree-id3) (1.19.5)\n",
            "Requirement already satisfied: scipy>=0.17.0 in /usr/local/lib/python3.7/dist-packages (from scikit-learn>=0.17->decision-tree-id3) (1.4.1)\n",
            "Requirement already satisfied: joblib>=0.11 in /usr/local/lib/python3.7/dist-packages (from scikit-learn>=0.17->decision-tree-id3) (1.0.1)\n",
            "Building wheels for collected packages: decision-tree-id3\n",
            "  Building wheel for decision-tree-id3 (setup.py) ... \u001b[?25l\u001b[?25hdone\n",
            "  Created wheel for decision-tree-id3: filename=decision_tree_id3-0.1.2-cp37-none-any.whl size=15962 sha256=d93b3785bf27941784e15f740485ceab9ec5641e2943b5c2a82dc31e7459a624\n",
            "  Stored in directory: /root/.cache/pip/wheels/2d/d6/f2/96cb2cc307503a88b1235aef5c794990e460bd044f382070f9\n",
            "Successfully built decision-tree-id3\n",
            "Installing collected packages: nose, decision-tree-id3\n",
            "Successfully installed decision-tree-id3-0.1.2 nose-1.3.7\n"
          ],
          "name": "stdout"
        }
      ]
    },
    {
      "cell_type": "code",
      "metadata": {
        "id": "OVIqx-3zo-Nw"
      },
      "source": [
        "from id3 import Id3Estimator"
      ],
      "execution_count": 114,
      "outputs": []
    },
    {
      "cell_type": "markdown",
      "metadata": {
        "id": "YDhL2fIxZJfu"
      },
      "source": [
        "Utilizando la base de datos de TENIS"
      ]
    },
    {
      "cell_type": "code",
      "metadata": {
        "id": "acJsmOMP8QF6"
      },
      "source": [
        "data = pd.read_csv(\"https://raw.githubusercontent.com/GustavoVargasHakim/Machine-Learning-en-Python/main/tenis.csv\")\n",
        "X = data.drop(columns = [\"¿Jugar?\"])\n",
        "y = data[\"¿Jugar?\"]"
      ],
      "execution_count": 115,
      "outputs": []
    },
    {
      "cell_type": "code",
      "metadata": {
        "colab": {
          "base_uri": "https://localhost:8080/"
        },
        "id": "C5oTaACGmg7L",
        "outputId": "239064ef-900e-4de2-b14e-ff8e32778981"
      },
      "source": [
        "X = X.values\n",
        "X = X.astype(\"<U21\")\n",
        "X"
      ],
      "execution_count": 116,
      "outputs": [
        {
          "output_type": "execute_result",
          "data": {
            "text/plain": [
              "array([['Soleado', 'Calor', 'Alta', 'No'],\n",
              "       ['Soleado', 'Calor', 'Alta', 'Sí'],\n",
              "       ['Nublado', 'Calor', 'Alta', 'No'],\n",
              "       ['Lluvia', 'Templado', 'Alta', 'No'],\n",
              "       ['Lluvia', 'Fresco', 'Normal', 'No'],\n",
              "       ['Lluvia', 'Fresco', 'Normal', 'Sí'],\n",
              "       ['Nublado', 'Fresco', 'Normal', 'Sí'],\n",
              "       ['Soleado', 'Templado', 'Alta', 'No'],\n",
              "       ['Soleado', 'Fresco', 'Normal', 'No'],\n",
              "       ['Lluvia', 'Templado', 'Normal', 'No'],\n",
              "       ['Soleado', 'Templado', 'Normal', 'Sí'],\n",
              "       ['Nublado', 'Templado', 'Alta', 'Sí'],\n",
              "       ['Nublado', 'Calor', 'Normal', 'No'],\n",
              "       ['Lluvia', 'Templado', 'Alta', 'Sí']], dtype='<U21')"
            ]
          },
          "metadata": {
            "tags": []
          },
          "execution_count": 116
        }
      ]
    },
    {
      "cell_type": "code",
      "metadata": {
        "colab": {
          "base_uri": "https://localhost:8080/"
        },
        "id": "NPAvxvuaoG05",
        "outputId": "ef23cd0e-8935-4f53-fae4-973da7fc4569"
      },
      "source": [
        "y = y.values\n",
        "y = y.astype(\"<U21\")\n",
        "y"
      ],
      "execution_count": 117,
      "outputs": [
        {
          "output_type": "execute_result",
          "data": {
            "text/plain": [
              "array(['No', 'No', 'Sí', 'Sí', 'Sí', 'No', 'Sí', 'No', 'Sí', 'Sí', 'Sí',\n",
              "       'Sí', 'Sí', 'No'], dtype='<U21')"
            ]
          },
          "metadata": {
            "tags": []
          },
          "execution_count": 117
        }
      ]
    },
    {
      "cell_type": "code",
      "metadata": {
        "id": "0kmQmbQq8Ra3",
        "colab": {
          "base_uri": "https://localhost:8080/"
        },
        "outputId": "51d0be1f-60d2-4b98-cfd0-8ec197a1ee45"
      },
      "source": [
        "clf = Id3Estimator()\n",
        "clf.fit(X, y, check_input = False)"
      ],
      "execution_count": 118,
      "outputs": [
        {
          "output_type": "execute_result",
          "data": {
            "text/plain": [
              "Id3Estimator(gain_ratio=False, is_repeating=False, max_depth=None,\n",
              "             min_entropy_decrease=0.0, min_samples_split=2, prune=False)"
            ]
          },
          "metadata": {
            "tags": []
          },
          "execution_count": 118
        }
      ]
    },
    {
      "cell_type": "code",
      "metadata": {
        "colab": {
          "base_uri": "https://localhost:8080/"
        },
        "id": "qcbn_zruq44_",
        "outputId": "50c73cbb-e29d-41ef-984d-78ac58e1c94f"
      },
      "source": [
        "print(export_text(clf.tree_, data.columns[0:-1]))"
      ],
      "execution_count": 119,
      "outputs": [
        {
          "output_type": "stream",
          "text": [
            "\n",
            "Cielo Lluvia\n",
            "|   Viento No: Sí (3) \n",
            "|   Viento Sí: No (2) \n",
            "Cielo Nublado: Sí (4) \n",
            "Cielo Soleado\n",
            "|   Humedad Alta: No (3) \n",
            "|   Humedad Normal: Sí (2) \n",
            "\n"
          ],
          "name": "stdout"
        }
      ]
    },
    {
      "cell_type": "code",
      "metadata": {
        "colab": {
          "base_uri": "https://localhost:8080/"
        },
        "id": "n-He2x7gueEp",
        "outputId": "522e8462-a6ff-433e-9a2d-1431924b7307"
      },
      "source": [
        "'''Chequeo del accuracy'''\n",
        "metrics.accuracy_score(y, clf.predict(X))"
      ],
      "execution_count": 120,
      "outputs": [
        {
          "output_type": "execute_result",
          "data": {
            "text/plain": [
              "1.0"
            ]
          },
          "metadata": {
            "tags": []
          },
          "execution_count": 120
        }
      ]
    },
    {
      "cell_type": "markdown",
      "metadata": {
        "id": "avDWA4r4ucRB"
      },
      "source": [
        "IRIS discretizado"
      ]
    },
    {
      "cell_type": "code",
      "metadata": {
        "id": "OT-aXCbiux9G"
      },
      "source": [
        "data = pd.read_csv(\"https://raw.githubusercontent.com/GustavoVargasHakim/Machine-Learning-en-Python/main/iris.csv\")\n",
        "X = data.drop(columns = [\"variety\"])\n",
        "y = data[\"variety\"]"
      ],
      "execution_count": 121,
      "outputs": []
    },
    {
      "cell_type": "code",
      "metadata": {
        "colab": {
          "base_uri": "https://localhost:8080/"
        },
        "id": "AGpoPp10u6At",
        "outputId": "939a1491-f641-4e86-821a-9f4ebf0caa3c"
      },
      "source": [
        "pip install caimcaim"
      ],
      "execution_count": 92,
      "outputs": [
        {
          "output_type": "stream",
          "text": [
            "Collecting caimcaim\n",
            "  Downloading https://files.pythonhosted.org/packages/af/ca/55ac76a918d203162835e32602ecbc9c21ea38de6924ad73367f4552f7d7/caimcaim-0.3.tar.gz\n",
            "Requirement already satisfied: numpy in /usr/local/lib/python3.7/dist-packages (from caimcaim) (1.19.5)\n",
            "Requirement already satisfied: sklearn in /usr/local/lib/python3.7/dist-packages (from caimcaim) (0.0)\n",
            "Requirement already satisfied: scikit-learn in /usr/local/lib/python3.7/dist-packages (from sklearn->caimcaim) (0.22.2.post1)\n",
            "Requirement already satisfied: joblib>=0.11 in /usr/local/lib/python3.7/dist-packages (from scikit-learn->sklearn->caimcaim) (1.0.1)\n",
            "Requirement already satisfied: scipy>=0.17.0 in /usr/local/lib/python3.7/dist-packages (from scikit-learn->sklearn->caimcaim) (1.4.1)\n",
            "Building wheels for collected packages: caimcaim\n",
            "  Building wheel for caimcaim (setup.py) ... \u001b[?25l\u001b[?25hdone\n",
            "  Created wheel for caimcaim: filename=caimcaim-0.3-cp37-none-any.whl size=3866 sha256=84702689d3f2ee329914ac2a68230aae9f4246d9f9a7c9f082d028e38c9d1324\n",
            "  Stored in directory: /root/.cache/pip/wheels/54/3f/ba/93c91435291033291bd84bda3b3fe1e725c6f62246040ec4f1\n",
            "Successfully built caimcaim\n",
            "Installing collected packages: caimcaim\n",
            "Successfully installed caimcaim-0.3\n"
          ],
          "name": "stdout"
        }
      ]
    },
    {
      "cell_type": "code",
      "metadata": {
        "id": "-BOBTU0cu8EQ"
      },
      "source": [
        "'''Y la llamamos'''\n",
        "from caimcaim import CAIMD"
      ],
      "execution_count": 122,
      "outputs": []
    },
    {
      "cell_type": "code",
      "metadata": {
        "colab": {
          "base_uri": "https://localhost:8080/"
        },
        "id": "ZYr0fRUSvBdE",
        "outputId": "231f9182-6229-4876-e760-4bd00203a2c1"
      },
      "source": [
        "caim = CAIMD()\n",
        "x_disc = caim.fit_transform(X, y)\n",
        "x_disc[\"variety\"] = y"
      ],
      "execution_count": 123,
      "outputs": [
        {
          "output_type": "stream",
          "text": [
            "Categorical []\n",
            "# 0  GLOBAL CAIM  26.636271740334553\n",
            "# 1  GLOBAL CAIM  17.382507167267576\n",
            "# 2  GLOBAL CAIM  45.55892255892255\n",
            "# 3  GLOBAL CAIM  46.16156736446592\n"
          ],
          "name": "stdout"
        }
      ]
    },
    {
      "cell_type": "code",
      "metadata": {
        "id": "HKumfugJvLBi"
      },
      "source": [
        "X = x_disc.drop(columns = [\"variety\"])\n",
        "X = X.values\n",
        "X = X.astype(\"<U21\")"
      ],
      "execution_count": 124,
      "outputs": []
    },
    {
      "cell_type": "code",
      "metadata": {
        "id": "WBgh_e3YvYeZ"
      },
      "source": [
        "y = x_disc[\"variety\"]\n",
        "y = y.values\n",
        "y = y.astype(\"<U21\")"
      ],
      "execution_count": 125,
      "outputs": []
    },
    {
      "cell_type": "code",
      "metadata": {
        "colab": {
          "base_uri": "https://localhost:8080/"
        },
        "id": "JlQ5LMeivfik",
        "outputId": "2a1188df-0df6-437a-a7c8-3df511549d40"
      },
      "source": [
        "clf = Id3Estimator()\n",
        "clf.fit(X, y, check_input = False)\n",
        "print(export_text(clf.tree_, data.columns[0:-1]))"
      ],
      "execution_count": 126,
      "outputs": [
        {
          "output_type": "stream",
          "text": [
            "\n",
            "petal.width 0.0: Setosa (49) \n",
            "petal.width 1.0\n",
            "|   petal.length 0.0: Setosa (1) \n",
            "|   petal.length 1.0: Versicolor (39) \n",
            "|   petal.length 2.0\n",
            "|   |   sepal.width 0.0\n",
            "|   |   |   sepal.length 0.0: Versicolor (4/3) \n",
            "|   |   |   sepal.length 1.0: Versicolor (2/2) \n",
            "|   |   |   sepal.length 2.0: Versicolor (2/1) \n",
            "|   |   sepal.width 1.0: Versicolor (1) \n",
            "|   |   sepal.width 2.0: Versicolor (4/1) \n",
            "petal.width 2.0\n",
            "|   sepal.width 0.0: Virginica (16) \n",
            "|   sepal.width 1.0: Virginica (2) \n",
            "|   sepal.width 2.0\n",
            "|   |   sepal.length 0.0: Virginica (28/2) \n",
            "|   |   sepal.length 1.0: Virginica (3/1) \n",
            "|   |   sepal.length 2.0: Virginica (25/1) \n",
            "\n"
          ],
          "name": "stdout"
        }
      ]
    },
    {
      "cell_type": "code",
      "metadata": {
        "colab": {
          "base_uri": "https://localhost:8080/"
        },
        "id": "GzlxbnNVwRkK",
        "outputId": "33daaf9c-6e24-43b6-fbce-7b2918ffa684"
      },
      "source": [
        "'''Chequeo del accuracy'''\n",
        "metrics.accuracy_score(y, clf.predict(X))"
      ],
      "execution_count": 127,
      "outputs": [
        {
          "output_type": "execute_result",
          "data": {
            "text/plain": [
              "0.96"
            ]
          },
          "metadata": {
            "tags": []
          },
          "execution_count": 127
        }
      ]
    },
    {
      "cell_type": "markdown",
      "metadata": {
        "id": "T3D6L7V7vzET"
      },
      "source": [
        "IRIS con datos continuos"
      ]
    },
    {
      "cell_type": "code",
      "metadata": {
        "id": "dj5J9Tg-v07e"
      },
      "source": [
        "data = pd.read_csv(\"https://raw.githubusercontent.com/GustavoVargasHakim/Machine-Learning-en-Python/main/iris.csv\")\n",
        "X = data.drop(columns = [\"variety\"])\n",
        "y = data[\"variety\"]"
      ],
      "execution_count": 128,
      "outputs": []
    },
    {
      "cell_type": "code",
      "metadata": {
        "id": "sCqhoA35v4MZ"
      },
      "source": [
        "X = x_disc.drop(columns = [\"variety\"])\n",
        "X = X.values\n",
        "X = X.astype(\"<U21\")\n",
        "\n",
        "y = x_disc[\"variety\"]\n",
        "y = y.values\n",
        "y = y.astype(\"<U21\")"
      ],
      "execution_count": 129,
      "outputs": []
    },
    {
      "cell_type": "code",
      "metadata": {
        "colab": {
          "base_uri": "https://localhost:8080/"
        },
        "id": "uLPIIgykv7Fg",
        "outputId": "2f0a6a3e-3a00-4163-ba89-940f79ae2e88"
      },
      "source": [
        "clf = Id3Estimator()\n",
        "clf.fit(X, y, check_input = True)\n",
        "print(export_text(clf.tree_, data.columns[0:-1]))"
      ],
      "execution_count": 130,
      "outputs": [
        {
          "output_type": "stream",
          "text": [
            "\n",
            "petal.width <=0.50: Setosa (49) \n",
            "petal.width >0.50\n",
            "|   petal.length <=1.50\n",
            "|   |   sepal.length <=0.50\n",
            "|   |   |   sepal.width <=1.00: Versicolor (5/1) \n",
            "|   |   |   sepal.width >1.00: Setosa (1/1) \n",
            "|   |   sepal.length >0.50: Versicolor (33) \n",
            "|   petal.length >1.50\n",
            "|   |   sepal.length <=1.50\n",
            "|   |   |   sepal.width <=0.50: Virginica (7/2) \n",
            "|   |   |   sepal.width >0.50: Virginica (3/2) \n",
            "|   |   sepal.length >1.50\n",
            "|   |   |   sepal.width <=1.50: Virginica (13/2) \n",
            "|   |   |   sepal.width >1.50: Virginica (26/5) \n",
            "\n"
          ],
          "name": "stdout"
        }
      ]
    },
    {
      "cell_type": "code",
      "metadata": {
        "colab": {
          "base_uri": "https://localhost:8080/"
        },
        "id": "vhXFv3sPwWaK",
        "outputId": "2cc44c35-3ef3-472b-970b-d6cf87bd07a3"
      },
      "source": [
        "'''Chequeo del accuracy'''\n",
        "metrics.accuracy_score(y, clf.predict(X))"
      ],
      "execution_count": 131,
      "outputs": [
        {
          "output_type": "execute_result",
          "data": {
            "text/plain": [
              "0.9133333333333333"
            ]
          },
          "metadata": {
            "tags": []
          },
          "execution_count": 131
        }
      ]
    }
  ]
}