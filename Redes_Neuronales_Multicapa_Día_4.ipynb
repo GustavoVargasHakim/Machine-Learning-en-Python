{
  "nbformat": 4,
  "nbformat_minor": 0,
  "metadata": {
    "colab": {
      "name": "Redes Neuronales Multicapa - Día 4.ipynb",
      "provenance": [],
      "toc_visible": true
    },
    "kernelspec": {
      "name": "python3",
      "display_name": "Python 3"
    },
    "language_info": {
      "name": "python"
    }
  },
  "cells": [
    {
      "cell_type": "markdown",
      "metadata": {
        "id": "n-SFAmb2ZpyV"
      },
      "source": [
        "# **Taller de Aprendizaje Automático en Python - Día 4**\n",
        "\n",
        "## **Autores:**\n",
        "\n",
        "\n",
        "\n",
        "*   José Clemente Hernández Hernández\n",
        "*   Gustavo Adolfo Vargas Hákim"
      ]
    },
    {
      "cell_type": "markdown",
      "metadata": {
        "id": "lr87Y9u0anoL"
      },
      "source": [
        "# **Redes Neuronales Multicapa**"
      ]
    },
    {
      "cell_type": "code",
      "metadata": {
        "id": "Xl6ss36eZm1B"
      },
      "source": [
        " from sklearn.neural_network import MLPClassifier\n",
        " import pandas as pd\n",
        " import numpy as np\n",
        " from sklearn import metrics #Métricas de evaluación"
      ],
      "execution_count": 19,
      "outputs": []
    },
    {
      "cell_type": "code",
      "metadata": {
        "id": "tNHbuZwr6iCD"
      },
      "source": [
        "data = pd.read_csv(\"https://raw.githubusercontent.com/GustavoVargasHakim/Machine-Learning-en-Python/main/iris.csv\")\n",
        "X = data.drop(columns = [\"variety\"])\n",
        "y = data[\"variety\"]"
      ],
      "execution_count": 100,
      "outputs": []
    },
    {
      "cell_type": "markdown",
      "metadata": {
        "id": "L5KQi5RL7uNy"
      },
      "source": [
        "Arreglo de las clases"
      ]
    },
    {
      "cell_type": "code",
      "metadata": {
        "id": "t7ZYTOSC7wD1"
      },
      "source": [
        "y_uniqs = y.unique()\n",
        "\n",
        "y = y.replace(y_uniqs[0], 0)\n",
        "y = y.replace(y_uniqs[1], 1)\n",
        "y = y.replace(y_uniqs[2], 2)"
      ],
      "execution_count": 101,
      "outputs": []
    },
    {
      "cell_type": "code",
      "metadata": {
        "colab": {
          "base_uri": "https://localhost:8080/"
        },
        "id": "6HYp0uvABpV5",
        "outputId": "64ebe2ca-2234-4576-9fff-4e72dd77c1f0"
      },
      "source": [
        "y.values"
      ],
      "execution_count": 115,
      "outputs": [
        {
          "output_type": "execute_result",
          "data": {
            "text/plain": [
              "array([0, 0, 0, 0, 0, 0, 0, 0, 0, 0, 0, 0, 0, 0, 0, 0, 0, 0, 0, 0, 0, 0,\n",
              "       0, 0, 0, 0, 0, 0, 0, 0, 0, 0, 0, 0, 0, 0, 0, 0, 0, 0, 0, 0, 0, 0,\n",
              "       0, 0, 0, 0, 0, 0, 1, 1, 1, 1, 1, 1, 1, 1, 1, 1, 1, 1, 1, 1, 1, 1,\n",
              "       1, 1, 1, 1, 1, 1, 1, 1, 1, 1, 1, 1, 1, 1, 1, 1, 1, 1, 1, 1, 1, 1,\n",
              "       1, 1, 1, 1, 1, 1, 1, 1, 1, 1, 1, 1, 2, 2, 2, 2, 2, 2, 2, 2, 2, 2,\n",
              "       2, 2, 2, 2, 2, 2, 2, 2, 2, 2, 2, 2, 2, 2, 2, 2, 2, 2, 2, 2, 2, 2,\n",
              "       2, 2, 2, 2, 2, 2, 2, 2, 2, 2, 2, 2, 2, 2, 2, 2, 2, 2])"
            ]
          },
          "metadata": {
            "tags": []
          },
          "execution_count": 115
        }
      ]
    },
    {
      "cell_type": "markdown",
      "metadata": {
        "id": "c81NgEsgAw0C"
      },
      "source": [
        "Se puede cambiar el número de neuronas en la capa de salida, así como el número de capas **ocultas**"
      ]
    },
    {
      "cell_type": "code",
      "metadata": {
        "id": "GkF4z--V68Vp"
      },
      "source": [
        "clf = MLPClassifier(solver='sgd', activation = \"logistic\", learning_rate_init = 0.001,\n",
        "                     hidden_layer_sizes=(6,), random_state= 1, max_iter=1000)"
      ],
      "execution_count": 127,
      "outputs": []
    },
    {
      "cell_type": "markdown",
      "metadata": {
        "id": "J9F8rC5xA75R"
      },
      "source": [
        "Entrenamos"
      ]
    },
    {
      "cell_type": "code",
      "metadata": {
        "colab": {
          "base_uri": "https://localhost:8080/"
        },
        "id": "V1EV5y397NkB",
        "outputId": "37fe0c19-8bdb-4122-a406-7779e2f235e4"
      },
      "source": [
        "clf.fit(X, y)"
      ],
      "execution_count": 128,
      "outputs": [
        {
          "output_type": "stream",
          "text": [
            "/usr/local/lib/python3.7/dist-packages/sklearn/neural_network/_multilayer_perceptron.py:571: ConvergenceWarning: Stochastic Optimizer: Maximum iterations (1000) reached and the optimization hasn't converged yet.\n",
            "  % self.max_iter, ConvergenceWarning)\n"
          ],
          "name": "stderr"
        },
        {
          "output_type": "execute_result",
          "data": {
            "text/plain": [
              "MLPClassifier(activation='logistic', alpha=0.0001, batch_size='auto',\n",
              "              beta_1=0.9, beta_2=0.999, early_stopping=False, epsilon=1e-08,\n",
              "              hidden_layer_sizes=(6,), learning_rate='constant',\n",
              "              learning_rate_init=0.001, max_fun=15000, max_iter=1000,\n",
              "              momentum=0.9, n_iter_no_change=10, nesterovs_momentum=True,\n",
              "              power_t=0.5, random_state=1, shuffle=True, solver='sgd',\n",
              "              tol=0.0001, validation_fraction=0.1, verbose=False,\n",
              "              warm_start=False)"
            ]
          },
          "metadata": {
            "tags": []
          },
          "execution_count": 128
        }
      ]
    },
    {
      "cell_type": "markdown",
      "metadata": {
        "id": "tkaRLOAWA9KV"
      },
      "source": [
        "Predecimos"
      ]
    },
    {
      "cell_type": "code",
      "metadata": {
        "colab": {
          "base_uri": "https://localhost:8080/"
        },
        "id": "YQ64raYC7i0y",
        "outputId": "14177ede-8b83-4412-9847-ea5414ad8443"
      },
      "source": [
        "y_predict = clf.predict(X)\n",
        "y_predict"
      ],
      "execution_count": 129,
      "outputs": [
        {
          "output_type": "execute_result",
          "data": {
            "text/plain": [
              "array([0, 0, 0, 0, 0, 0, 0, 0, 0, 0, 0, 0, 0, 0, 0, 0, 0, 0, 0, 0, 0, 0,\n",
              "       0, 0, 0, 0, 0, 0, 0, 0, 0, 0, 0, 0, 0, 0, 0, 0, 0, 0, 0, 0, 0, 0,\n",
              "       0, 0, 0, 0, 0, 0, 2, 2, 2, 2, 2, 2, 2, 1, 2, 2, 2, 2, 2, 2, 2, 2,\n",
              "       2, 2, 2, 2, 2, 2, 2, 2, 2, 2, 2, 2, 2, 2, 2, 2, 2, 2, 2, 2, 2, 2,\n",
              "       2, 2, 2, 2, 2, 1, 2, 2, 2, 2, 1, 2, 2, 2, 2, 2, 2, 2, 2, 2, 2, 2,\n",
              "       2, 2, 2, 2, 2, 2, 2, 2, 2, 2, 2, 2, 2, 2, 2, 2, 2, 2, 2, 2, 2, 2,\n",
              "       2, 2, 2, 2, 2, 2, 2, 2, 2, 2, 2, 2, 2, 2, 2, 2, 2, 2])"
            ]
          },
          "metadata": {
            "tags": []
          },
          "execution_count": 129
        }
      ]
    },
    {
      "cell_type": "markdown",
      "metadata": {
        "id": "m32b_BuyA-aX"
      },
      "source": [
        "Evaluamos"
      ]
    },
    {
      "cell_type": "code",
      "metadata": {
        "colab": {
          "base_uri": "https://localhost:8080/"
        },
        "id": "s2tsVWSDACk2",
        "outputId": "664c3e17-4e04-4334-83a4-5b74155a010d"
      },
      "source": [
        "print(metrics.accuracy_score(y, y_predict))"
      ],
      "execution_count": 130,
      "outputs": [
        {
          "output_type": "stream",
          "text": [
            "0.6866666666666666\n"
          ],
          "name": "stdout"
        }
      ]
    }
  ]
}